{
 "cells": [
  {
   "cell_type": "markdown",
   "metadata": {},
   "source": [
    "# Topic\n",
    "* Stock Price Prediction \n",
    "\n",
    "### Focus\n",
    "* S&P 500 - Accenture as Case Study.\n",
    "\n",
    "\n",
    "## Theme\n",
    "* Time-series analysis (tsa)"
   ]
  },
  {
   "cell_type": "markdown",
   "metadata": {},
   "source": [
    "# Introduction\n",
    "\n",
    "This project will be in two parts. The first would be an exploratory analysis of the S&P 500, focusing on the Information Technology sector. In this part, I will analyze the data to know the number of companies in each sector, know the oldest and youngest company in the index and most popular headquarter locations. I will also download the stock data from yahoo finance in this part, and then write a function to visualize by company ticker.\n",
    "\n",
    "In the second part, I will build a model to predict the stock closing prices, in this part, I will use Accenture as the case study. This part will include feature engineering, data preparation, model development (ARIMA), prediction and evaluation. \n",
    "\n",
    "I will end the project by outlining some insights and observations from both parts of the project.\n"
   ]
  },
  {
   "cell_type": "markdown",
   "metadata": {},
   "source": [
    "# Procedures\n",
    "\n",
    "Part 1. General Analysis of S&P stock data\n",
    "\n",
    "* Import modules, Scrape and Import data.\n",
    "* Review & Clean data\n",
    "* Exploratory Data analysis\n",
    "* Download stock price [Source: Yahoo Finance]\n",
    "    * Case: Accenture\n",
    "\n",
    "Part 2. ARIMA MODEL development & evaluation"
   ]
  },
  {
   "cell_type": "markdown",
   "metadata": {},
   "source": [
    "## 1. Import Modules, Scrape & Import Data"
   ]
  },
  {
   "cell_type": "code",
   "execution_count": 167,
   "metadata": {},
   "outputs": [],
   "source": [
    "# Import relevant modules for the analysis\n",
    "\n",
    "import pandas as pd\n",
    "import numpy as np\n",
    "import seaborn as sns\n",
    "import matplotlib.pyplot as plt\n",
    "import yfinance as yf\n",
    "import warnings\n",
    "warnings.filterwarnings('ignore')"
   ]
  },
  {
   "cell_type": "code",
   "execution_count": 2,
   "metadata": {},
   "outputs": [],
   "source": [
    "# Here, I scrape the data from wikipedia and pass intona variable\n",
    "\n",
    "url = \"https://en.wikipedia.org/wiki/List_of_S%26P_500_companies\"\n",
    "html = pd.read_html(url, header = 0)\n",
    "df = html[0]"
   ]
  },
  {
   "cell_type": "code",
   "execution_count": 3,
   "metadata": {},
   "outputs": [
    {
     "data": {
      "text/html": [
       "<div>\n",
       "<style scoped>\n",
       "    .dataframe tbody tr th:only-of-type {\n",
       "        vertical-align: middle;\n",
       "    }\n",
       "\n",
       "    .dataframe tbody tr th {\n",
       "        vertical-align: top;\n",
       "    }\n",
       "\n",
       "    .dataframe thead th {\n",
       "        text-align: right;\n",
       "    }\n",
       "</style>\n",
       "<table border=\"1\" class=\"dataframe\">\n",
       "  <thead>\n",
       "    <tr style=\"text-align: right;\">\n",
       "      <th></th>\n",
       "      <th>Symbol</th>\n",
       "      <th>Security</th>\n",
       "      <th>SEC filings</th>\n",
       "      <th>GICS Sector</th>\n",
       "      <th>GICS Sub-Industry</th>\n",
       "      <th>Headquarters Location</th>\n",
       "      <th>Date first added</th>\n",
       "      <th>CIK</th>\n",
       "      <th>Founded</th>\n",
       "    </tr>\n",
       "  </thead>\n",
       "  <tbody>\n",
       "    <tr>\n",
       "      <th>0</th>\n",
       "      <td>MMM</td>\n",
       "      <td>3M</td>\n",
       "      <td>reports</td>\n",
       "      <td>Industrials</td>\n",
       "      <td>Industrial Conglomerates</td>\n",
       "      <td>Saint Paul, Minnesota</td>\n",
       "      <td>1976-08-09</td>\n",
       "      <td>66740</td>\n",
       "      <td>1902</td>\n",
       "    </tr>\n",
       "    <tr>\n",
       "      <th>1</th>\n",
       "      <td>AOS</td>\n",
       "      <td>A. O. Smith</td>\n",
       "      <td>reports</td>\n",
       "      <td>Industrials</td>\n",
       "      <td>Building Products</td>\n",
       "      <td>Milwaukee, Wisconsin</td>\n",
       "      <td>2017-07-26</td>\n",
       "      <td>91142</td>\n",
       "      <td>1916</td>\n",
       "    </tr>\n",
       "    <tr>\n",
       "      <th>2</th>\n",
       "      <td>ABT</td>\n",
       "      <td>Abbott</td>\n",
       "      <td>reports</td>\n",
       "      <td>Health Care</td>\n",
       "      <td>Health Care Equipment</td>\n",
       "      <td>North Chicago, Illinois</td>\n",
       "      <td>1964-03-31</td>\n",
       "      <td>1800</td>\n",
       "      <td>1888</td>\n",
       "    </tr>\n",
       "    <tr>\n",
       "      <th>3</th>\n",
       "      <td>ABBV</td>\n",
       "      <td>AbbVie</td>\n",
       "      <td>reports</td>\n",
       "      <td>Health Care</td>\n",
       "      <td>Pharmaceuticals</td>\n",
       "      <td>North Chicago, Illinois</td>\n",
       "      <td>2012-12-31</td>\n",
       "      <td>1551152</td>\n",
       "      <td>2013 (1888)</td>\n",
       "    </tr>\n",
       "    <tr>\n",
       "      <th>4</th>\n",
       "      <td>ABMD</td>\n",
       "      <td>Abiomed</td>\n",
       "      <td>reports</td>\n",
       "      <td>Health Care</td>\n",
       "      <td>Health Care Equipment</td>\n",
       "      <td>Danvers, Massachusetts</td>\n",
       "      <td>2018-05-31</td>\n",
       "      <td>815094</td>\n",
       "      <td>1981</td>\n",
       "    </tr>\n",
       "    <tr>\n",
       "      <th>5</th>\n",
       "      <td>ACN</td>\n",
       "      <td>Accenture</td>\n",
       "      <td>reports</td>\n",
       "      <td>Information Technology</td>\n",
       "      <td>IT Consulting &amp; Other Services</td>\n",
       "      <td>Dublin, Ireland</td>\n",
       "      <td>2011-07-06</td>\n",
       "      <td>1467373</td>\n",
       "      <td>1989</td>\n",
       "    </tr>\n",
       "    <tr>\n",
       "      <th>6</th>\n",
       "      <td>ATVI</td>\n",
       "      <td>Activision Blizzard</td>\n",
       "      <td>reports</td>\n",
       "      <td>Communication Services</td>\n",
       "      <td>Interactive Home Entertainment</td>\n",
       "      <td>Santa Monica, California</td>\n",
       "      <td>2015-08-31</td>\n",
       "      <td>718877</td>\n",
       "      <td>2008</td>\n",
       "    </tr>\n",
       "    <tr>\n",
       "      <th>7</th>\n",
       "      <td>ADM</td>\n",
       "      <td>ADM</td>\n",
       "      <td>reports</td>\n",
       "      <td>Consumer Staples</td>\n",
       "      <td>Agricultural Products</td>\n",
       "      <td>Chicago, Illinois</td>\n",
       "      <td>1981-07-29</td>\n",
       "      <td>7084</td>\n",
       "      <td>1902</td>\n",
       "    </tr>\n",
       "    <tr>\n",
       "      <th>8</th>\n",
       "      <td>ADBE</td>\n",
       "      <td>Adobe</td>\n",
       "      <td>reports</td>\n",
       "      <td>Information Technology</td>\n",
       "      <td>Application Software</td>\n",
       "      <td>San Jose, California</td>\n",
       "      <td>1997-05-05</td>\n",
       "      <td>796343</td>\n",
       "      <td>1982</td>\n",
       "    </tr>\n",
       "    <tr>\n",
       "      <th>9</th>\n",
       "      <td>ADP</td>\n",
       "      <td>ADP</td>\n",
       "      <td>reports</td>\n",
       "      <td>Information Technology</td>\n",
       "      <td>Data Processing &amp; Outsourced Services</td>\n",
       "      <td>Roseland, New Jersey</td>\n",
       "      <td>1981-03-31</td>\n",
       "      <td>8670</td>\n",
       "      <td>1949</td>\n",
       "    </tr>\n",
       "  </tbody>\n",
       "</table>\n",
       "</div>"
      ],
      "text/plain": [
       "  Symbol             Security SEC filings             GICS Sector  \\\n",
       "0    MMM                   3M     reports             Industrials   \n",
       "1    AOS          A. O. Smith     reports             Industrials   \n",
       "2    ABT               Abbott     reports             Health Care   \n",
       "3   ABBV               AbbVie     reports             Health Care   \n",
       "4   ABMD              Abiomed     reports             Health Care   \n",
       "5    ACN            Accenture     reports  Information Technology   \n",
       "6   ATVI  Activision Blizzard     reports  Communication Services   \n",
       "7    ADM                  ADM     reports        Consumer Staples   \n",
       "8   ADBE                Adobe     reports  Information Technology   \n",
       "9    ADP                  ADP     reports  Information Technology   \n",
       "\n",
       "                       GICS Sub-Industry     Headquarters Location  \\\n",
       "0               Industrial Conglomerates     Saint Paul, Minnesota   \n",
       "1                      Building Products      Milwaukee, Wisconsin   \n",
       "2                  Health Care Equipment   North Chicago, Illinois   \n",
       "3                        Pharmaceuticals   North Chicago, Illinois   \n",
       "4                  Health Care Equipment    Danvers, Massachusetts   \n",
       "5         IT Consulting & Other Services           Dublin, Ireland   \n",
       "6         Interactive Home Entertainment  Santa Monica, California   \n",
       "7                  Agricultural Products         Chicago, Illinois   \n",
       "8                   Application Software      San Jose, California   \n",
       "9  Data Processing & Outsourced Services      Roseland, New Jersey   \n",
       "\n",
       "  Date first added      CIK      Founded  \n",
       "0       1976-08-09    66740         1902  \n",
       "1       2017-07-26    91142         1916  \n",
       "2       1964-03-31     1800         1888  \n",
       "3       2012-12-31  1551152  2013 (1888)  \n",
       "4       2018-05-31   815094         1981  \n",
       "5       2011-07-06  1467373         1989  \n",
       "6       2015-08-31   718877         2008  \n",
       "7       1981-07-29     7084         1902  \n",
       "8       1997-05-05   796343         1982  \n",
       "9       1981-03-31     8670         1949  "
      ]
     },
     "execution_count": 3,
     "metadata": {},
     "output_type": "execute_result"
    }
   ],
   "source": [
    "# Quick preview of the data\n",
    "\n",
    "df.head(10)"
   ]
  },
  {
   "cell_type": "markdown",
   "metadata": {},
   "source": [
    "\n",
    "## 2. Review Data Properties & Clean Data\n"
   ]
  },
  {
   "cell_type": "code",
   "execution_count": 4,
   "metadata": {},
   "outputs": [],
   "source": [
    "# Drop column that is not relevant to the analysis\n",
    "\n",
    "df.drop('SEC filings', axis=1, inplace=True)"
   ]
  },
  {
   "cell_type": "code",
   "execution_count": 5,
   "metadata": {},
   "outputs": [
    {
     "data": {
      "text/html": [
       "<div>\n",
       "<style scoped>\n",
       "    .dataframe tbody tr th:only-of-type {\n",
       "        vertical-align: middle;\n",
       "    }\n",
       "\n",
       "    .dataframe tbody tr th {\n",
       "        vertical-align: top;\n",
       "    }\n",
       "\n",
       "    .dataframe thead th {\n",
       "        text-align: right;\n",
       "    }\n",
       "</style>\n",
       "<table border=\"1\" class=\"dataframe\">\n",
       "  <thead>\n",
       "    <tr style=\"text-align: right;\">\n",
       "      <th></th>\n",
       "      <th>Symbol</th>\n",
       "      <th>Security</th>\n",
       "      <th>GICS Sector</th>\n",
       "      <th>GICS Sub-Industry</th>\n",
       "      <th>Headquarters Location</th>\n",
       "      <th>Date first added</th>\n",
       "      <th>CIK</th>\n",
       "      <th>Founded</th>\n",
       "    </tr>\n",
       "  </thead>\n",
       "  <tbody>\n",
       "    <tr>\n",
       "      <th>0</th>\n",
       "      <td>MMM</td>\n",
       "      <td>3M</td>\n",
       "      <td>Industrials</td>\n",
       "      <td>Industrial Conglomerates</td>\n",
       "      <td>Saint Paul, Minnesota</td>\n",
       "      <td>1976-08-09</td>\n",
       "      <td>66740</td>\n",
       "      <td>1902</td>\n",
       "    </tr>\n",
       "    <tr>\n",
       "      <th>1</th>\n",
       "      <td>AOS</td>\n",
       "      <td>A. O. Smith</td>\n",
       "      <td>Industrials</td>\n",
       "      <td>Building Products</td>\n",
       "      <td>Milwaukee, Wisconsin</td>\n",
       "      <td>2017-07-26</td>\n",
       "      <td>91142</td>\n",
       "      <td>1916</td>\n",
       "    </tr>\n",
       "  </tbody>\n",
       "</table>\n",
       "</div>"
      ],
      "text/plain": [
       "  Symbol     Security  GICS Sector         GICS Sub-Industry  \\\n",
       "0    MMM           3M  Industrials  Industrial Conglomerates   \n",
       "1    AOS  A. O. Smith  Industrials         Building Products   \n",
       "\n",
       "   Headquarters Location Date first added    CIK Founded  \n",
       "0  Saint Paul, Minnesota       1976-08-09  66740    1902  \n",
       "1   Milwaukee, Wisconsin       2017-07-26  91142    1916  "
      ]
     },
     "execution_count": 5,
     "metadata": {},
     "output_type": "execute_result"
    }
   ],
   "source": [
    "# Preview new dataframe\n",
    "\n",
    "df.head(2)"
   ]
  },
  {
   "cell_type": "code",
   "execution_count": 6,
   "metadata": {},
   "outputs": [
    {
     "data": {
      "text/plain": [
       "504"
      ]
     },
     "execution_count": 6,
     "metadata": {},
     "output_type": "execute_result"
    }
   ],
   "source": [
    "# Check how many rows of data\n",
    "\n",
    "len(df)"
   ]
  },
  {
   "cell_type": "code",
   "execution_count": 7,
   "metadata": {},
   "outputs": [
    {
     "data": {
      "text/plain": [
       "Index(['Symbol', 'Security', 'GICS Sector', 'GICS Sub-Industry',\n",
       "       'Headquarters Location', 'Date first added', 'CIK', 'Founded'],\n",
       "      dtype='object')"
      ]
     },
     "execution_count": 7,
     "metadata": {},
     "output_type": "execute_result"
    }
   ],
   "source": [
    "df.columns"
   ]
  },
  {
   "cell_type": "code",
   "execution_count": 8,
   "metadata": {},
   "outputs": [
    {
     "data": {
      "text/plain": [
       "Symbol                   object\n",
       "Security                 object\n",
       "GICS Sector              object\n",
       "GICS Sub-Industry        object\n",
       "Headquarters Location    object\n",
       "Date first added         object\n",
       "CIK                       int64\n",
       "Founded                  object\n",
       "dtype: object"
      ]
     },
     "execution_count": 8,
     "metadata": {},
     "output_type": "execute_result"
    }
   ],
   "source": [
    "df.dtypes"
   ]
  },
  {
   "cell_type": "code",
   "execution_count": 9,
   "metadata": {},
   "outputs": [
    {
     "data": {
      "text/plain": [
       "True"
      ]
     },
     "execution_count": 9,
     "metadata": {},
     "output_type": "execute_result"
    }
   ],
   "source": [
    "df.isna().values.any()"
   ]
  },
  {
   "cell_type": "code",
   "execution_count": 10,
   "metadata": {},
   "outputs": [],
   "source": [
    "df.dropna(how='any', inplace=True)"
   ]
  },
  {
   "cell_type": "code",
   "execution_count": 11,
   "metadata": {},
   "outputs": [
    {
     "data": {
      "text/plain": [
       "False"
      ]
     },
     "execution_count": 11,
     "metadata": {},
     "output_type": "execute_result"
    }
   ],
   "source": [
    "df.isna().values.any()"
   ]
  },
  {
   "cell_type": "code",
   "execution_count": 12,
   "metadata": {},
   "outputs": [
    {
     "data": {
      "text/plain": [
       "False"
      ]
     },
     "execution_count": 12,
     "metadata": {},
     "output_type": "execute_result"
    }
   ],
   "source": [
    "df.duplicated().values.any()"
   ]
  },
  {
   "cell_type": "markdown",
   "metadata": {},
   "source": [
    "## 3. Exploratory Data Analysis.\n",
    "\n",
    "In this part, I answer a few questions as follow.\n"
   ]
  },
  {
   "cell_type": "code",
   "execution_count": 13,
   "metadata": {},
   "outputs": [
    {
     "data": {
      "text/plain": [
       "array(['Industrials', 'Health Care', 'Information Technology',\n",
       "       'Communication Services', 'Consumer Staples',\n",
       "       'Consumer Discretionary', 'Utilities', 'Financials', 'Materials',\n",
       "       'Real Estate', 'Energy'], dtype=object)"
      ]
     },
     "execution_count": 13,
     "metadata": {},
     "output_type": "execute_result"
    }
   ],
   "source": [
    "# What are the sectors within the S&P?\n",
    "\n",
    "df['GICS Sector'].unique()"
   ]
  },
  {
   "cell_type": "code",
   "execution_count": 14,
   "metadata": {},
   "outputs": [
    {
     "data": {
      "text/plain": [
       "11"
      ]
     },
     "execution_count": 14,
     "metadata": {},
     "output_type": "execute_result"
    }
   ],
   "source": [
    "# How many sectors are there in the S&P?\n",
    "\n",
    "sector_count = df['GICS Sector'].unique()\n",
    "len(sector_count)"
   ]
  },
  {
   "cell_type": "code",
   "execution_count": 15,
   "metadata": {},
   "outputs": [
    {
     "data": {
      "text/plain": [
       "121"
      ]
     },
     "execution_count": 15,
     "metadata": {},
     "output_type": "execute_result"
    }
   ],
   "source": [
    "# How many sub-sectors are there in total?\n",
    "\n",
    "sub_industry_count = df['GICS Sub-Industry'].unique()\n",
    "len(sub_industry_count)"
   ]
  },
  {
   "cell_type": "code",
   "execution_count": 16,
   "metadata": {},
   "outputs": [
    {
     "data": {
      "text/plain": [
       "70    BNY Mellon\n",
       "Name: Security, dtype: object"
      ]
     },
     "execution_count": 16,
     "metadata": {},
     "output_type": "execute_result"
    }
   ],
   "source": [
    "# Find the oldest company in the S&P\n",
    "\n",
    "df[df['Founded'] == (df['Founded'].min())]['Security']"
   ]
  },
  {
   "cell_type": "code",
   "execution_count": 17,
   "metadata": {},
   "outputs": [
    {
     "data": {
      "text/plain": [
       "483    Warner Bros. Discovery\n",
       "Name: Security, dtype: object"
      ]
     },
     "execution_count": 17,
     "metadata": {},
     "output_type": "execute_result"
    }
   ],
   "source": [
    "# Find the youngest company in the S&P\n",
    "\n",
    "df[df['Founded'] == (df['Founded'].max())]['Security']"
   ]
  },
  {
   "cell_type": "code",
   "execution_count": 246,
   "metadata": {},
   "outputs": [
    {
     "data": {
      "text/plain": [
       "Headquarters Location\n",
       "New York City, New York      35\n",
       "Houston, Texas               17\n",
       "Chicago, Illinois            13\n",
       "Atlanta, Georgia             12\n",
       "Dallas, Texas                 8\n",
       "San Jose, California          8\n",
       "Charlotte, North Carolina     8\n",
       "Santa Clara, California       7\n",
       "Dublin, Ireland               6\n",
       "Seattle, Washington           6\n",
       "Name: Headquarters Location, dtype: int64"
      ]
     },
     "execution_count": 246,
     "metadata": {},
     "output_type": "execute_result"
    }
   ],
   "source": [
    "# What are the most popular headquarters locations?\n",
    "\n",
    "hq_locations_count = df.groupby('Headquarters Location')['Headquarters Location'].count().sort_values(ascending=False)\n",
    "hq_locations_count.head(10)"
   ]
  },
  {
   "cell_type": "code",
   "execution_count": 18,
   "metadata": {},
   "outputs": [
    {
     "data": {
      "text/html": [
       "<div>\n",
       "<style scoped>\n",
       "    .dataframe tbody tr th:only-of-type {\n",
       "        vertical-align: middle;\n",
       "    }\n",
       "\n",
       "    .dataframe tbody tr th {\n",
       "        vertical-align: top;\n",
       "    }\n",
       "\n",
       "    .dataframe thead th {\n",
       "        text-align: right;\n",
       "    }\n",
       "</style>\n",
       "<table border=\"1\" class=\"dataframe\">\n",
       "  <thead>\n",
       "    <tr style=\"text-align: right;\">\n",
       "      <th></th>\n",
       "      <th>Symbol</th>\n",
       "      <th>Security</th>\n",
       "      <th>GICS Sub-Industry</th>\n",
       "      <th>Headquarters Location</th>\n",
       "      <th>Date first added</th>\n",
       "      <th>CIK</th>\n",
       "      <th>Founded</th>\n",
       "    </tr>\n",
       "    <tr>\n",
       "      <th>GICS Sector</th>\n",
       "      <th></th>\n",
       "      <th></th>\n",
       "      <th></th>\n",
       "      <th></th>\n",
       "      <th></th>\n",
       "      <th></th>\n",
       "      <th></th>\n",
       "    </tr>\n",
       "  </thead>\n",
       "  <tbody>\n",
       "    <tr>\n",
       "      <th>Communication Services</th>\n",
       "      <td>ATVI</td>\n",
       "      <td>Activision Blizzard</td>\n",
       "      <td>Interactive Home Entertainment</td>\n",
       "      <td>Santa Monica, California</td>\n",
       "      <td>2015-08-31</td>\n",
       "      <td>718877</td>\n",
       "      <td>2008</td>\n",
       "    </tr>\n",
       "    <tr>\n",
       "      <th>Consumer Discretionary</th>\n",
       "      <td>AAP</td>\n",
       "      <td>Advance Auto Parts</td>\n",
       "      <td>Automotive Retail</td>\n",
       "      <td>Raleigh, North Carolina</td>\n",
       "      <td>2015-07-09</td>\n",
       "      <td>1158449</td>\n",
       "      <td>1932</td>\n",
       "    </tr>\n",
       "    <tr>\n",
       "      <th>Consumer Staples</th>\n",
       "      <td>ADM</td>\n",
       "      <td>ADM</td>\n",
       "      <td>Agricultural Products</td>\n",
       "      <td>Chicago, Illinois</td>\n",
       "      <td>1981-07-29</td>\n",
       "      <td>7084</td>\n",
       "      <td>1902</td>\n",
       "    </tr>\n",
       "    <tr>\n",
       "      <th>Energy</th>\n",
       "      <td>APA</td>\n",
       "      <td>APA Corporation</td>\n",
       "      <td>Oil &amp; Gas Exploration &amp; Production</td>\n",
       "      <td>Houston, Texas</td>\n",
       "      <td>1997-07-28</td>\n",
       "      <td>6769</td>\n",
       "      <td>1954</td>\n",
       "    </tr>\n",
       "    <tr>\n",
       "      <th>Financials</th>\n",
       "      <td>AFL</td>\n",
       "      <td>Aflac</td>\n",
       "      <td>Life &amp; Health Insurance</td>\n",
       "      <td>Columbus, Georgia</td>\n",
       "      <td>1999-05-28</td>\n",
       "      <td>4977</td>\n",
       "      <td>1955</td>\n",
       "    </tr>\n",
       "    <tr>\n",
       "      <th>Health Care</th>\n",
       "      <td>ABT</td>\n",
       "      <td>Abbott</td>\n",
       "      <td>Health Care Equipment</td>\n",
       "      <td>North Chicago, Illinois</td>\n",
       "      <td>1964-03-31</td>\n",
       "      <td>1800</td>\n",
       "      <td>1888</td>\n",
       "    </tr>\n",
       "    <tr>\n",
       "      <th>Industrials</th>\n",
       "      <td>MMM</td>\n",
       "      <td>3M</td>\n",
       "      <td>Industrial Conglomerates</td>\n",
       "      <td>Saint Paul, Minnesota</td>\n",
       "      <td>1976-08-09</td>\n",
       "      <td>66740</td>\n",
       "      <td>1902</td>\n",
       "    </tr>\n",
       "    <tr>\n",
       "      <th>Information Technology</th>\n",
       "      <td>ACN</td>\n",
       "      <td>Accenture</td>\n",
       "      <td>IT Consulting &amp; Other Services</td>\n",
       "      <td>Dublin, Ireland</td>\n",
       "      <td>2011-07-06</td>\n",
       "      <td>1467373</td>\n",
       "      <td>1989</td>\n",
       "    </tr>\n",
       "    <tr>\n",
       "      <th>Materials</th>\n",
       "      <td>APD</td>\n",
       "      <td>Air Products</td>\n",
       "      <td>Industrial Gases</td>\n",
       "      <td>Allentown, Pennsylvania</td>\n",
       "      <td>1985-04-30</td>\n",
       "      <td>2969</td>\n",
       "      <td>1940</td>\n",
       "    </tr>\n",
       "    <tr>\n",
       "      <th>Real Estate</th>\n",
       "      <td>ARE</td>\n",
       "      <td>Alexandria</td>\n",
       "      <td>Office REITs</td>\n",
       "      <td>Pasadena, California</td>\n",
       "      <td>2017-03-20</td>\n",
       "      <td>1035443</td>\n",
       "      <td>1994</td>\n",
       "    </tr>\n",
       "    <tr>\n",
       "      <th>Utilities</th>\n",
       "      <td>AES</td>\n",
       "      <td>AES</td>\n",
       "      <td>Independent Power Producers &amp; Energy Traders</td>\n",
       "      <td>Arlington, Virginia</td>\n",
       "      <td>1998-10-02</td>\n",
       "      <td>874761</td>\n",
       "      <td>1981</td>\n",
       "    </tr>\n",
       "  </tbody>\n",
       "</table>\n",
       "</div>"
      ],
      "text/plain": [
       "                       Symbol             Security  \\\n",
       "GICS Sector                                          \n",
       "Communication Services   ATVI  Activision Blizzard   \n",
       "Consumer Discretionary    AAP   Advance Auto Parts   \n",
       "Consumer Staples          ADM                  ADM   \n",
       "Energy                    APA      APA Corporation   \n",
       "Financials                AFL                Aflac   \n",
       "Health Care               ABT               Abbott   \n",
       "Industrials               MMM                   3M   \n",
       "Information Technology    ACN            Accenture   \n",
       "Materials                 APD         Air Products   \n",
       "Real Estate               ARE           Alexandria   \n",
       "Utilities                 AES                  AES   \n",
       "\n",
       "                                                   GICS Sub-Industry  \\\n",
       "GICS Sector                                                            \n",
       "Communication Services                Interactive Home Entertainment   \n",
       "Consumer Discretionary                             Automotive Retail   \n",
       "Consumer Staples                               Agricultural Products   \n",
       "Energy                            Oil & Gas Exploration & Production   \n",
       "Financials                                   Life & Health Insurance   \n",
       "Health Care                                    Health Care Equipment   \n",
       "Industrials                                 Industrial Conglomerates   \n",
       "Information Technology                IT Consulting & Other Services   \n",
       "Materials                                           Industrial Gases   \n",
       "Real Estate                                             Office REITs   \n",
       "Utilities               Independent Power Producers & Energy Traders   \n",
       "\n",
       "                           Headquarters Location Date first added      CIK  \\\n",
       "GICS Sector                                                                  \n",
       "Communication Services  Santa Monica, California       2015-08-31   718877   \n",
       "Consumer Discretionary   Raleigh, North Carolina       2015-07-09  1158449   \n",
       "Consumer Staples               Chicago, Illinois       1981-07-29     7084   \n",
       "Energy                            Houston, Texas       1997-07-28     6769   \n",
       "Financials                     Columbus, Georgia       1999-05-28     4977   \n",
       "Health Care              North Chicago, Illinois       1964-03-31     1800   \n",
       "Industrials                Saint Paul, Minnesota       1976-08-09    66740   \n",
       "Information Technology           Dublin, Ireland       2011-07-06  1467373   \n",
       "Materials                Allentown, Pennsylvania       1985-04-30     2969   \n",
       "Real Estate                 Pasadena, California       2017-03-20  1035443   \n",
       "Utilities                    Arlington, Virginia       1998-10-02   874761   \n",
       "\n",
       "                       Founded  \n",
       "GICS Sector                     \n",
       "Communication Services    2008  \n",
       "Consumer Discretionary    1932  \n",
       "Consumer Staples          1902  \n",
       "Energy                    1954  \n",
       "Financials                1955  \n",
       "Health Care               1888  \n",
       "Industrials               1902  \n",
       "Information Technology    1989  \n",
       "Materials                 1940  \n",
       "Real Estate               1994  \n",
       "Utilities                 1981  "
      ]
     },
     "execution_count": 18,
     "metadata": {},
     "output_type": "execute_result"
    }
   ],
   "source": [
    "# Group data by sector & return top 10 on the list\n",
    "\n",
    "sector = df.groupby('GICS Sector')\n",
    "sector.first()"
   ]
  },
  {
   "cell_type": "code",
   "execution_count": 19,
   "metadata": {},
   "outputs": [
    {
     "data": {
      "text/html": [
       "<div>\n",
       "<style scoped>\n",
       "    .dataframe tbody tr th:only-of-type {\n",
       "        vertical-align: middle;\n",
       "    }\n",
       "\n",
       "    .dataframe tbody tr th {\n",
       "        vertical-align: top;\n",
       "    }\n",
       "\n",
       "    .dataframe thead tr th {\n",
       "        text-align: left;\n",
       "    }\n",
       "\n",
       "    .dataframe thead tr:last-of-type th {\n",
       "        text-align: right;\n",
       "    }\n",
       "</style>\n",
       "<table border=\"1\" class=\"dataframe\">\n",
       "  <thead>\n",
       "    <tr>\n",
       "      <th></th>\n",
       "      <th colspan=\"8\" halign=\"left\">CIK</th>\n",
       "    </tr>\n",
       "    <tr>\n",
       "      <th></th>\n",
       "      <th>count</th>\n",
       "      <th>mean</th>\n",
       "      <th>std</th>\n",
       "      <th>min</th>\n",
       "      <th>25%</th>\n",
       "      <th>50%</th>\n",
       "      <th>75%</th>\n",
       "      <th>max</th>\n",
       "    </tr>\n",
       "    <tr>\n",
       "      <th>GICS Sector</th>\n",
       "      <th></th>\n",
       "      <th></th>\n",
       "      <th></th>\n",
       "      <th></th>\n",
       "      <th></th>\n",
       "      <th></th>\n",
       "      <th></th>\n",
       "      <th></th>\n",
       "    </tr>\n",
       "  </thead>\n",
       "  <tbody>\n",
       "    <tr>\n",
       "      <th>Communication Services</th>\n",
       "      <td>24.0</td>\n",
       "      <td>1.150723e+06</td>\n",
       "      <td>489997.992794</td>\n",
       "      <td>18926.0</td>\n",
       "      <td>851506.50</td>\n",
       "      <td>1225195.0</td>\n",
       "      <td>1564708.00</td>\n",
       "      <td>1754301.0</td>\n",
       "    </tr>\n",
       "    <tr>\n",
       "      <th>Consumer Discretionary</th>\n",
       "      <td>56.0</td>\n",
       "      <td>8.703307e+05</td>\n",
       "      <td>462451.900257</td>\n",
       "      <td>27419.0</td>\n",
       "      <td>759791.50</td>\n",
       "      <td>918562.5</td>\n",
       "      <td>1171238.00</td>\n",
       "      <td>1590895.0</td>\n",
       "    </tr>\n",
       "    <tr>\n",
       "      <th>Consumer Staples</th>\n",
       "      <td>32.0</td>\n",
       "      <td>3.872794e+05</td>\n",
       "      <td>564407.571740</td>\n",
       "      <td>7084.0</td>\n",
       "      <td>24213.00</td>\n",
       "      <td>70615.0</td>\n",
       "      <td>789573.00</td>\n",
       "      <td>1679273.0</td>\n",
       "    </tr>\n",
       "    <tr>\n",
       "      <th>Energy</th>\n",
       "      <td>20.0</td>\n",
       "      <td>7.540602e+05</td>\n",
       "      <td>631982.654770</td>\n",
       "      <td>4447.0</td>\n",
       "      <td>91894.25</td>\n",
       "      <td>839829.5</td>\n",
       "      <td>1248950.50</td>\n",
       "      <td>1701605.0</td>\n",
       "    </tr>\n",
       "    <tr>\n",
       "      <th>Financials</th>\n",
       "      <td>54.0</td>\n",
       "      <td>6.929291e+05</td>\n",
       "      <td>535740.637556</td>\n",
       "      <td>4962.0</td>\n",
       "      <td>82073.75</td>\n",
       "      <td>825514.0</td>\n",
       "      <td>1136575.25</td>\n",
       "      <td>1601712.0</td>\n",
       "    </tr>\n",
       "    <tr>\n",
       "      <th>Health Care</th>\n",
       "      <td>61.0</td>\n",
       "      <td>8.383631e+05</td>\n",
       "      <td>530809.104454</td>\n",
       "      <td>1800.0</td>\n",
       "      <td>318154.00</td>\n",
       "      <td>879169.0</td>\n",
       "      <td>1100682.00</td>\n",
       "      <td>1821825.0</td>\n",
       "    </tr>\n",
       "    <tr>\n",
       "      <th>Industrials</th>\n",
       "      <td>68.0</td>\n",
       "      <td>6.711383e+05</td>\n",
       "      <td>586893.901661</td>\n",
       "      <td>4281.0</td>\n",
       "      <td>77103.50</td>\n",
       "      <td>737525.0</td>\n",
       "      <td>1073457.50</td>\n",
       "      <td>1783180.0</td>\n",
       "    </tr>\n",
       "    <tr>\n",
       "      <th>Information Technology</th>\n",
       "      <td>67.0</td>\n",
       "      <td>9.867065e+05</td>\n",
       "      <td>481212.857060</td>\n",
       "      <td>4127.0</td>\n",
       "      <td>797348.50</td>\n",
       "      <td>1043604.0</td>\n",
       "      <td>1378513.50</td>\n",
       "      <td>1730168.0</td>\n",
       "    </tr>\n",
       "    <tr>\n",
       "      <th>Materials</th>\n",
       "      <td>26.0</td>\n",
       "      <td>8.026645e+05</td>\n",
       "      <td>703303.162426</td>\n",
       "      <td>2969.0</td>\n",
       "      <td>56902.75</td>\n",
       "      <td>915994.5</td>\n",
       "      <td>1378107.75</td>\n",
       "      <td>1755672.0</td>\n",
       "    </tr>\n",
       "    <tr>\n",
       "      <th>Real Estate</th>\n",
       "      <td>29.0</td>\n",
       "      <td>9.232999e+05</td>\n",
       "      <td>290631.676096</td>\n",
       "      <td>34903.0</td>\n",
       "      <td>879101.00</td>\n",
       "      <td>920522.0</td>\n",
       "      <td>1053507.00</td>\n",
       "      <td>1393311.0</td>\n",
       "    </tr>\n",
       "    <tr>\n",
       "      <th>Utilities</th>\n",
       "      <td>22.0</td>\n",
       "      <td>8.063869e+05</td>\n",
       "      <td>528892.748396</td>\n",
       "      <td>4904.0</td>\n",
       "      <td>447356.25</td>\n",
       "      <td>819104.0</td>\n",
       "      <td>1085485.50</td>\n",
       "      <td>1868275.0</td>\n",
       "    </tr>\n",
       "  </tbody>\n",
       "</table>\n",
       "</div>"
      ],
      "text/plain": [
       "                         CIK                                                   \\\n",
       "                       count          mean            std      min        25%   \n",
       "GICS Sector                                                                     \n",
       "Communication Services  24.0  1.150723e+06  489997.992794  18926.0  851506.50   \n",
       "Consumer Discretionary  56.0  8.703307e+05  462451.900257  27419.0  759791.50   \n",
       "Consumer Staples        32.0  3.872794e+05  564407.571740   7084.0   24213.00   \n",
       "Energy                  20.0  7.540602e+05  631982.654770   4447.0   91894.25   \n",
       "Financials              54.0  6.929291e+05  535740.637556   4962.0   82073.75   \n",
       "Health Care             61.0  8.383631e+05  530809.104454   1800.0  318154.00   \n",
       "Industrials             68.0  6.711383e+05  586893.901661   4281.0   77103.50   \n",
       "Information Technology  67.0  9.867065e+05  481212.857060   4127.0  797348.50   \n",
       "Materials               26.0  8.026645e+05  703303.162426   2969.0   56902.75   \n",
       "Real Estate             29.0  9.232999e+05  290631.676096  34903.0  879101.00   \n",
       "Utilities               22.0  8.063869e+05  528892.748396   4904.0  447356.25   \n",
       "\n",
       "                                                          \n",
       "                              50%         75%        max  \n",
       "GICS Sector                                               \n",
       "Communication Services  1225195.0  1564708.00  1754301.0  \n",
       "Consumer Discretionary   918562.5  1171238.00  1590895.0  \n",
       "Consumer Staples          70615.0   789573.00  1679273.0  \n",
       "Energy                   839829.5  1248950.50  1701605.0  \n",
       "Financials               825514.0  1136575.25  1601712.0  \n",
       "Health Care              879169.0  1100682.00  1821825.0  \n",
       "Industrials              737525.0  1073457.50  1783180.0  \n",
       "Information Technology  1043604.0  1378513.50  1730168.0  \n",
       "Materials                915994.5  1378107.75  1755672.0  \n",
       "Real Estate              920522.0  1053507.00  1393311.0  \n",
       "Utilities                819104.0  1085485.50  1868275.0  "
      ]
     },
     "execution_count": 19,
     "metadata": {},
     "output_type": "execute_result"
    }
   ],
   "source": [
    "# Descriptive analysis of the data by sector\n",
    "\n",
    "sector.describe()"
   ]
  },
  {
   "cell_type": "code",
   "execution_count": 20,
   "metadata": {},
   "outputs": [
    {
     "data": {
      "image/png": "[encoded data removed]",
      "text/plain": [
       "<Figure size 576x360 with 1 Axes>"
      ]
     },
     "metadata": {
      "needs_background": "light"
     },
     "output_type": "display_data"
    }
   ],
   "source": [
    "# A bar chart to visualize the number of companies in each sector\n",
    "\n",
    "fig, ax = plt.subplots(figsize=(8,5))\n",
    "sector.count()['Symbol'].plot.bar()\n",
    "ax.set_title('S&P 500 by Sector')\n",
    "ax.set_xlabel('GICS Sector')\n",
    "ax.set_ylabel('Count')\n",
    "plt.show()\n"
   ]
  },
  {
   "cell_type": "code",
   "execution_count": 21,
   "metadata": {},
   "outputs": [
    {
     "data": {
      "text/html": [
       "<div>\n",
       "<style scoped>\n",
       "    .dataframe tbody tr th:only-of-type {\n",
       "        vertical-align: middle;\n",
       "    }\n",
       "\n",
       "    .dataframe tbody tr th {\n",
       "        vertical-align: top;\n",
       "    }\n",
       "\n",
       "    .dataframe thead th {\n",
       "        text-align: right;\n",
       "    }\n",
       "</style>\n",
       "<table border=\"1\" class=\"dataframe\">\n",
       "  <thead>\n",
       "    <tr style=\"text-align: right;\">\n",
       "      <th></th>\n",
       "      <th>Symbol</th>\n",
       "      <th>Security</th>\n",
       "      <th>GICS Sector</th>\n",
       "      <th>GICS Sub-Industry</th>\n",
       "      <th>Headquarters Location</th>\n",
       "      <th>Date first added</th>\n",
       "      <th>CIK</th>\n",
       "      <th>Founded</th>\n",
       "    </tr>\n",
       "  </thead>\n",
       "  <tbody>\n",
       "    <tr>\n",
       "      <th>5</th>\n",
       "      <td>ACN</td>\n",
       "      <td>Accenture</td>\n",
       "      <td>Information Technology</td>\n",
       "      <td>IT Consulting &amp; Other Services</td>\n",
       "      <td>Dublin, Ireland</td>\n",
       "      <td>2011-07-06</td>\n",
       "      <td>1467373</td>\n",
       "      <td>1989</td>\n",
       "    </tr>\n",
       "    <tr>\n",
       "      <th>8</th>\n",
       "      <td>ADBE</td>\n",
       "      <td>Adobe</td>\n",
       "      <td>Information Technology</td>\n",
       "      <td>Application Software</td>\n",
       "      <td>San Jose, California</td>\n",
       "      <td>1997-05-05</td>\n",
       "      <td>796343</td>\n",
       "      <td>1982</td>\n",
       "    </tr>\n",
       "    <tr>\n",
       "      <th>9</th>\n",
       "      <td>ADP</td>\n",
       "      <td>ADP</td>\n",
       "      <td>Information Technology</td>\n",
       "      <td>Data Processing &amp; Outsourced Services</td>\n",
       "      <td>Roseland, New Jersey</td>\n",
       "      <td>1981-03-31</td>\n",
       "      <td>8670</td>\n",
       "      <td>1949</td>\n",
       "    </tr>\n",
       "    <tr>\n",
       "      <th>16</th>\n",
       "      <td>AKAM</td>\n",
       "      <td>Akamai</td>\n",
       "      <td>Information Technology</td>\n",
       "      <td>Internet Services &amp; Infrastructure</td>\n",
       "      <td>Cambridge, Massachusetts</td>\n",
       "      <td>2007-07-12</td>\n",
       "      <td>1086222</td>\n",
       "      <td>1998</td>\n",
       "    </tr>\n",
       "    <tr>\n",
       "      <th>40</th>\n",
       "      <td>APH</td>\n",
       "      <td>Amphenol</td>\n",
       "      <td>Information Technology</td>\n",
       "      <td>Electronic Components</td>\n",
       "      <td>Wallingford, Connecticut</td>\n",
       "      <td>2008-09-30</td>\n",
       "      <td>820313</td>\n",
       "      <td>1932</td>\n",
       "    </tr>\n",
       "    <tr>\n",
       "      <th>...</th>\n",
       "      <td>...</td>\n",
       "      <td>...</td>\n",
       "      <td>...</td>\n",
       "      <td>...</td>\n",
       "      <td>...</td>\n",
       "      <td>...</td>\n",
       "      <td>...</td>\n",
       "      <td>...</td>\n",
       "    </tr>\n",
       "    <tr>\n",
       "      <th>456</th>\n",
       "      <td>TYL</td>\n",
       "      <td>Tyler Technologies</td>\n",
       "      <td>Information Technology</td>\n",
       "      <td>Application Software</td>\n",
       "      <td>Plano, Texas</td>\n",
       "      <td>2020-06-22</td>\n",
       "      <td>860731</td>\n",
       "      <td>1966</td>\n",
       "    </tr>\n",
       "    <tr>\n",
       "      <th>471</th>\n",
       "      <td>VRSN</td>\n",
       "      <td>Verisign</td>\n",
       "      <td>Information Technology</td>\n",
       "      <td>Internet Services &amp; Infrastructure</td>\n",
       "      <td>Dulles, Virginia</td>\n",
       "      <td>2006-02-01</td>\n",
       "      <td>1014473</td>\n",
       "      <td>1995</td>\n",
       "    </tr>\n",
       "    <tr>\n",
       "      <th>477</th>\n",
       "      <td>V</td>\n",
       "      <td>Visa</td>\n",
       "      <td>Information Technology</td>\n",
       "      <td>Data Processing &amp; Outsourced Services</td>\n",
       "      <td>San Francisco, California</td>\n",
       "      <td>2009-12-21</td>\n",
       "      <td>1403161</td>\n",
       "      <td>1958</td>\n",
       "    </tr>\n",
       "    <tr>\n",
       "      <th>490</th>\n",
       "      <td>WDC</td>\n",
       "      <td>Western Digital</td>\n",
       "      <td>Information Technology</td>\n",
       "      <td>Technology Hardware, Storage &amp; Peripherals</td>\n",
       "      <td>San Jose, California</td>\n",
       "      <td>2009-07-01</td>\n",
       "      <td>106040</td>\n",
       "      <td>1970</td>\n",
       "    </tr>\n",
       "    <tr>\n",
       "      <th>500</th>\n",
       "      <td>ZBRA</td>\n",
       "      <td>Zebra</td>\n",
       "      <td>Information Technology</td>\n",
       "      <td>Electronic Equipment &amp; Instruments</td>\n",
       "      <td>Lincolnshire, Illinois</td>\n",
       "      <td>2019-12-23</td>\n",
       "      <td>877212</td>\n",
       "      <td>1969</td>\n",
       "    </tr>\n",
       "  </tbody>\n",
       "</table>\n",
       "<p>67 rows × 8 columns</p>\n",
       "</div>"
      ],
      "text/plain": [
       "    Symbol            Security             GICS Sector  \\\n",
       "5      ACN           Accenture  Information Technology   \n",
       "8     ADBE               Adobe  Information Technology   \n",
       "9      ADP                 ADP  Information Technology   \n",
       "16    AKAM              Akamai  Information Technology   \n",
       "40     APH            Amphenol  Information Technology   \n",
       "..     ...                 ...                     ...   \n",
       "456    TYL  Tyler Technologies  Information Technology   \n",
       "471   VRSN            Verisign  Information Technology   \n",
       "477      V                Visa  Information Technology   \n",
       "490    WDC     Western Digital  Information Technology   \n",
       "500   ZBRA               Zebra  Information Technology   \n",
       "\n",
       "                              GICS Sub-Industry      Headquarters Location  \\\n",
       "5                IT Consulting & Other Services            Dublin, Ireland   \n",
       "8                          Application Software       San Jose, California   \n",
       "9         Data Processing & Outsourced Services       Roseland, New Jersey   \n",
       "16           Internet Services & Infrastructure   Cambridge, Massachusetts   \n",
       "40                        Electronic Components   Wallingford, Connecticut   \n",
       "..                                          ...                        ...   \n",
       "456                        Application Software               Plano, Texas   \n",
       "471          Internet Services & Infrastructure           Dulles, Virginia   \n",
       "477       Data Processing & Outsourced Services  San Francisco, California   \n",
       "490  Technology Hardware, Storage & Peripherals       San Jose, California   \n",
       "500          Electronic Equipment & Instruments     Lincolnshire, Illinois   \n",
       "\n",
       "    Date first added      CIK Founded  \n",
       "5         2011-07-06  1467373    1989  \n",
       "8         1997-05-05   796343    1982  \n",
       "9         1981-03-31     8670    1949  \n",
       "16        2007-07-12  1086222    1998  \n",
       "40        2008-09-30   820313    1932  \n",
       "..               ...      ...     ...  \n",
       "456       2020-06-22   860731    1966  \n",
       "471       2006-02-01  1014473    1995  \n",
       "477       2009-12-21  1403161    1958  \n",
       "490       2009-07-01   106040    1970  \n",
       "500       2019-12-23   877212    1969  \n",
       "\n",
       "[67 rows x 8 columns]"
      ]
     },
     "execution_count": 21,
     "metadata": {},
     "output_type": "execute_result"
    }
   ],
   "source": [
    "# Slice data to preview only IT companies\n",
    "\n",
    "sector.get_group('Information Technology')"
   ]
  },
  {
   "cell_type": "code",
   "execution_count": 22,
   "metadata": {},
   "outputs": [
    {
     "data": {
      "text/html": [
       "<div>\n",
       "<style scoped>\n",
       "    .dataframe tbody tr th:only-of-type {\n",
       "        vertical-align: middle;\n",
       "    }\n",
       "\n",
       "    .dataframe tbody tr th {\n",
       "        vertical-align: top;\n",
       "    }\n",
       "\n",
       "    .dataframe thead th {\n",
       "        text-align: right;\n",
       "    }\n",
       "</style>\n",
       "<table border=\"1\" class=\"dataframe\">\n",
       "  <thead>\n",
       "    <tr style=\"text-align: right;\">\n",
       "      <th></th>\n",
       "      <th>Symbol</th>\n",
       "      <th>Security</th>\n",
       "      <th>GICS Sector</th>\n",
       "      <th>GICS Sub-Industry</th>\n",
       "      <th>Headquarters Location</th>\n",
       "      <th>Date first added</th>\n",
       "      <th>CIK</th>\n",
       "      <th>Founded</th>\n",
       "    </tr>\n",
       "  </thead>\n",
       "  <tbody>\n",
       "    <tr>\n",
       "      <th>5</th>\n",
       "      <td>ACN</td>\n",
       "      <td>Accenture</td>\n",
       "      <td>Information Technology</td>\n",
       "      <td>IT Consulting &amp; Other Services</td>\n",
       "      <td>Dublin, Ireland</td>\n",
       "      <td>2011-07-06</td>\n",
       "      <td>1467373</td>\n",
       "      <td>1989</td>\n",
       "    </tr>\n",
       "    <tr>\n",
       "      <th>8</th>\n",
       "      <td>ADBE</td>\n",
       "      <td>Adobe</td>\n",
       "      <td>Information Technology</td>\n",
       "      <td>Application Software</td>\n",
       "      <td>San Jose, California</td>\n",
       "      <td>1997-05-05</td>\n",
       "      <td>796343</td>\n",
       "      <td>1982</td>\n",
       "    </tr>\n",
       "    <tr>\n",
       "      <th>9</th>\n",
       "      <td>ADP</td>\n",
       "      <td>ADP</td>\n",
       "      <td>Information Technology</td>\n",
       "      <td>Data Processing &amp; Outsourced Services</td>\n",
       "      <td>Roseland, New Jersey</td>\n",
       "      <td>1981-03-31</td>\n",
       "      <td>8670</td>\n",
       "      <td>1949</td>\n",
       "    </tr>\n",
       "    <tr>\n",
       "      <th>16</th>\n",
       "      <td>AKAM</td>\n",
       "      <td>Akamai</td>\n",
       "      <td>Information Technology</td>\n",
       "      <td>Internet Services &amp; Infrastructure</td>\n",
       "      <td>Cambridge, Massachusetts</td>\n",
       "      <td>2007-07-12</td>\n",
       "      <td>1086222</td>\n",
       "      <td>1998</td>\n",
       "    </tr>\n",
       "    <tr>\n",
       "      <th>40</th>\n",
       "      <td>APH</td>\n",
       "      <td>Amphenol</td>\n",
       "      <td>Information Technology</td>\n",
       "      <td>Electronic Components</td>\n",
       "      <td>Wallingford, Connecticut</td>\n",
       "      <td>2008-09-30</td>\n",
       "      <td>820313</td>\n",
       "      <td>1932</td>\n",
       "    </tr>\n",
       "  </tbody>\n",
       "</table>\n",
       "</div>"
      ],
      "text/plain": [
       "   Symbol   Security             GICS Sector  \\\n",
       "5     ACN  Accenture  Information Technology   \n",
       "8    ADBE      Adobe  Information Technology   \n",
       "9     ADP        ADP  Information Technology   \n",
       "16   AKAM     Akamai  Information Technology   \n",
       "40    APH   Amphenol  Information Technology   \n",
       "\n",
       "                        GICS Sub-Industry     Headquarters Location  \\\n",
       "5          IT Consulting & Other Services           Dublin, Ireland   \n",
       "8                    Application Software      San Jose, California   \n",
       "9   Data Processing & Outsourced Services      Roseland, New Jersey   \n",
       "16     Internet Services & Infrastructure  Cambridge, Massachusetts   \n",
       "40                  Electronic Components  Wallingford, Connecticut   \n",
       "\n",
       "   Date first added      CIK Founded  \n",
       "5        2011-07-06  1467373    1989  \n",
       "8        1997-05-05   796343    1982  \n",
       "9        1981-03-31     8670    1949  \n",
       "16       2007-07-12  1086222    1998  \n",
       "40       2008-09-30   820313    1932  "
      ]
     },
     "execution_count": 22,
     "metadata": {},
     "output_type": "execute_result"
    }
   ],
   "source": [
    "# Pass the sliced data into a new variable for easy analysis\n",
    "\n",
    "df2 = sector.get_group('Information Technology')\n",
    "df2.head()"
   ]
  },
  {
   "cell_type": "code",
   "execution_count": 23,
   "metadata": {},
   "outputs": [
    {
     "data": {
      "text/plain": [
       "['ACN',\n",
       " 'ADBE',\n",
       " 'ADP',\n",
       " 'AKAM',\n",
       " 'APH',\n",
       " 'ADI',\n",
       " 'ANSS',\n",
       " 'AAPL',\n",
       " 'AMAT',\n",
       " 'ANET',\n",
       " 'ADSK',\n",
       " 'AVGO',\n",
       " 'BR',\n",
       " 'CDNS',\n",
       " 'CDW',\n",
       " 'CDAY',\n",
       " 'CSCO',\n",
       " 'CTXS',\n",
       " 'CTSH',\n",
       " 'DXC',\n",
       " 'ENPH',\n",
       " 'EPAM',\n",
       " 'FFIV',\n",
       " 'FIS',\n",
       " 'FISV',\n",
       " 'FLT',\n",
       " 'FTNT',\n",
       " 'IT',\n",
       " 'GPN',\n",
       " 'HPE',\n",
       " 'HPQ',\n",
       " 'INTC',\n",
       " 'IBM',\n",
       " 'INTU',\n",
       " 'IPGP',\n",
       " 'JKHY',\n",
       " 'JNPR',\n",
       " 'KEYS',\n",
       " 'LRCX',\n",
       " 'MA',\n",
       " 'MCHP',\n",
       " 'MU',\n",
       " 'MSFT',\n",
       " 'MPWR',\n",
       " 'NTAP',\n",
       " 'NLOK',\n",
       " 'NVDA',\n",
       " 'NXPI',\n",
       " 'ORCL',\n",
       " 'PAYC',\n",
       " 'PYPL',\n",
       " 'PTC',\n",
       " 'QRVO',\n",
       " 'CRM',\n",
       " 'STX',\n",
       " 'NOW',\n",
       " 'SWKS',\n",
       " 'SEDG',\n",
       " 'SNPS',\n",
       " 'TEL',\n",
       " 'TER',\n",
       " 'TRMB',\n",
       " 'TYL',\n",
       " 'VRSN',\n",
       " 'V',\n",
       " 'WDC',\n",
       " 'ZBRA']"
      ]
     },
     "execution_count": 23,
     "metadata": {},
     "output_type": "execute_result"
    }
   ],
   "source": [
    "# Create a list of the symbols of each company \n",
    "\n",
    "list(sector.get_group('Information Technology')['Symbol'])"
   ]
  },
  {
   "cell_type": "markdown",
   "metadata": {},
   "source": [
    "## 4.  Download stock price data from Yahoo Finance"
   ]
  },
  {
   "cell_type": "code",
   "execution_count": 24,
   "metadata": {},
   "outputs": [
    {
     "name": "stdout",
     "output_type": "stream",
     "text": [
      "[*********************100%***********************]  67 of 67 completed\n"
     ]
    }
   ],
   "source": [
    "# This code downloads the stock prices from yahoo finance & matches to symbol/tickers of S&P companies\n",
    "\n",
    "data = yf.download(\n",
    "    tickers=list(df2['Symbol']),\n",
    "period = 'ytd',\n",
    "interval = '1d',\n",
    "group_by = 'ticker',\n",
    "auto_adjust = True,\n",
    "prepost = True,\n",
    "threads = True,\n",
    "proxy = None)\n",
    "\n"
   ]
  },
  {
   "cell_type": "markdown",
   "metadata": {},
   "source": [
    "#### We have a total of 74 companies, and I downloaded of the stock prices is completed above."
   ]
  },
  {
   "cell_type": "code",
   "execution_count": 25,
   "metadata": {
    "scrolled": true
   },
   "outputs": [
    {
     "data": {
      "text/html": [
       "<div>\n",
       "<style scoped>\n",
       "    .dataframe tbody tr th:only-of-type {\n",
       "        vertical-align: middle;\n",
       "    }\n",
       "\n",
       "    .dataframe tbody tr th {\n",
       "        vertical-align: top;\n",
       "    }\n",
       "\n",
       "    .dataframe thead tr th {\n",
       "        text-align: left;\n",
       "    }\n",
       "\n",
       "    .dataframe thead tr:last-of-type th {\n",
       "        text-align: right;\n",
       "    }\n",
       "</style>\n",
       "<table border=\"1\" class=\"dataframe\">\n",
       "  <thead>\n",
       "    <tr>\n",
       "      <th></th>\n",
       "      <th colspan=\"5\" halign=\"left\">INTU</th>\n",
       "      <th colspan=\"5\" halign=\"left\">MSFT</th>\n",
       "      <th>...</th>\n",
       "      <th colspan=\"5\" halign=\"left\">ORCL</th>\n",
       "      <th colspan=\"5\" halign=\"left\">AAPL</th>\n",
       "    </tr>\n",
       "    <tr>\n",
       "      <th></th>\n",
       "      <th>Open</th>\n",
       "      <th>High</th>\n",
       "      <th>Low</th>\n",
       "      <th>Close</th>\n",
       "      <th>Volume</th>\n",
       "      <th>Open</th>\n",
       "      <th>High</th>\n",
       "      <th>Low</th>\n",
       "      <th>Close</th>\n",
       "      <th>Volume</th>\n",
       "      <th>...</th>\n",
       "      <th>Open</th>\n",
       "      <th>High</th>\n",
       "      <th>Low</th>\n",
       "      <th>Close</th>\n",
       "      <th>Volume</th>\n",
       "      <th>Open</th>\n",
       "      <th>High</th>\n",
       "      <th>Low</th>\n",
       "      <th>Close</th>\n",
       "      <th>Volume</th>\n",
       "    </tr>\n",
       "    <tr>\n",
       "      <th>Date</th>\n",
       "      <th></th>\n",
       "      <th></th>\n",
       "      <th></th>\n",
       "      <th></th>\n",
       "      <th></th>\n",
       "      <th></th>\n",
       "      <th></th>\n",
       "      <th></th>\n",
       "      <th></th>\n",
       "      <th></th>\n",
       "      <th></th>\n",
       "      <th></th>\n",
       "      <th></th>\n",
       "      <th></th>\n",
       "      <th></th>\n",
       "      <th></th>\n",
       "      <th></th>\n",
       "      <th></th>\n",
       "      <th></th>\n",
       "      <th></th>\n",
       "      <th></th>\n",
       "    </tr>\n",
       "  </thead>\n",
       "  <tbody>\n",
       "    <tr>\n",
       "      <th>2022-01-03</th>\n",
       "      <td>638.409664</td>\n",
       "      <td>643.975493</td>\n",
       "      <td>619.707133</td>\n",
       "      <td>629.871277</td>\n",
       "      <td>1360600</td>\n",
       "      <td>334.658033</td>\n",
       "      <td>337.302559</td>\n",
       "      <td>329.099519</td>\n",
       "      <td>334.059265</td>\n",
       "      <td>28865100</td>\n",
       "      <td>...</td>\n",
       "      <td>86.667737</td>\n",
       "      <td>87.273111</td>\n",
       "      <td>85.109643</td>\n",
       "      <td>87.233414</td>\n",
       "      <td>10644400</td>\n",
       "      <td>177.343154</td>\n",
       "      <td>182.379332</td>\n",
       "      <td>177.223488</td>\n",
       "      <td>181.511703</td>\n",
       "      <td>104487900</td>\n",
       "    </tr>\n",
       "    <tr>\n",
       "      <th>2022-01-04</th>\n",
       "      <td>629.871311</td>\n",
       "      <td>629.871311</td>\n",
       "      <td>604.595497</td>\n",
       "      <td>616.754639</td>\n",
       "      <td>1998900</td>\n",
       "      <td>334.139083</td>\n",
       "      <td>334.508345</td>\n",
       "      <td>325.447064</td>\n",
       "      <td>328.331116</td>\n",
       "      <td>32674300</td>\n",
       "      <td>...</td>\n",
       "      <td>87.233416</td>\n",
       "      <td>88.900676</td>\n",
       "      <td>87.064707</td>\n",
       "      <td>88.166283</td>\n",
       "      <td>11959000</td>\n",
       "      <td>182.130025</td>\n",
       "      <td>182.439174</td>\n",
       "      <td>178.629624</td>\n",
       "      <td>179.208038</td>\n",
       "      <td>99310400</td>\n",
       "    </tr>\n",
       "    <tr>\n",
       "      <th>2022-01-05</th>\n",
       "      <td>607.887055</td>\n",
       "      <td>613.133748</td>\n",
       "      <td>591.668212</td>\n",
       "      <td>592.196899</td>\n",
       "      <td>2295800</td>\n",
       "      <td>325.187592</td>\n",
       "      <td>325.397181</td>\n",
       "      <td>315.328004</td>\n",
       "      <td>315.727173</td>\n",
       "      <td>40054300</td>\n",
       "      <td>...</td>\n",
       "      <td>87.818941</td>\n",
       "      <td>87.928107</td>\n",
       "      <td>85.566159</td>\n",
       "      <td>85.804337</td>\n",
       "      <td>11236700</td>\n",
       "      <td>179.118295</td>\n",
       "      <td>179.676759</td>\n",
       "      <td>174.161899</td>\n",
       "      <td>174.441132</td>\n",
       "      <td>94537600</td>\n",
       "    </tr>\n",
       "    <tr>\n",
       "      <th>2022-01-06</th>\n",
       "      <td>585.314392</td>\n",
       "      <td>594.341468</td>\n",
       "      <td>578.741110</td>\n",
       "      <td>584.905457</td>\n",
       "      <td>1789000</td>\n",
       "      <td>312.503826</td>\n",
       "      <td>318.042392</td>\n",
       "      <td>310.847247</td>\n",
       "      <td>313.232330</td>\n",
       "      <td>39646100</td>\n",
       "      <td>...</td>\n",
       "      <td>85.664884</td>\n",
       "      <td>87.079349</td>\n",
       "      <td>85.216640</td>\n",
       "      <td>86.003555</td>\n",
       "      <td>7918400</td>\n",
       "      <td>172.227194</td>\n",
       "      <td>174.820082</td>\n",
       "      <td>171.170099</td>\n",
       "      <td>171.529114</td>\n",
       "      <td>96904000</td>\n",
       "    </tr>\n",
       "    <tr>\n",
       "      <th>2022-01-07</th>\n",
       "      <td>585.634404</td>\n",
       "      <td>588.180889</td>\n",
       "      <td>562.995563</td>\n",
       "      <td>566.780334</td>\n",
       "      <td>2275200</td>\n",
       "      <td>313.501757</td>\n",
       "      <td>315.846914</td>\n",
       "      <td>309.450137</td>\n",
       "      <td>313.391998</td>\n",
       "      <td>32720000</td>\n",
       "      <td>...</td>\n",
       "      <td>86.113124</td>\n",
       "      <td>87.657087</td>\n",
       "      <td>85.943788</td>\n",
       "      <td>87.168999</td>\n",
       "      <td>9836800</td>\n",
       "      <td>172.416684</td>\n",
       "      <td>173.663262</td>\n",
       "      <td>170.561776</td>\n",
       "      <td>171.698654</td>\n",
       "      <td>86709100</td>\n",
       "    </tr>\n",
       "    <tr>\n",
       "      <th>2022-01-10</th>\n",
       "      <td>552.759655</td>\n",
       "      <td>570.105789</td>\n",
       "      <td>543.112890</td>\n",
       "      <td>569.406738</td>\n",
       "      <td>2956700</td>\n",
       "      <td>308.851385</td>\n",
       "      <td>314.070605</td>\n",
       "      <td>304.061302</td>\n",
       "      <td>313.621521</td>\n",
       "      <td>44289500</td>\n",
       "      <td>...</td>\n",
       "      <td>87.039501</td>\n",
       "      <td>89.031707</td>\n",
       "      <td>86.611176</td>\n",
       "      <td>88.932098</td>\n",
       "      <td>11025500</td>\n",
       "      <td>168.617111</td>\n",
       "      <td>172.027746</td>\n",
       "      <td>167.709599</td>\n",
       "      <td>171.718597</td>\n",
       "      <td>106765600</td>\n",
       "    </tr>\n",
       "    <tr>\n",
       "      <th>2022-01-11</th>\n",
       "      <td>565.422228</td>\n",
       "      <td>578.813780</td>\n",
       "      <td>557.752785</td>\n",
       "      <td>577.924988</td>\n",
       "      <td>1696500</td>\n",
       "      <td>312.733373</td>\n",
       "      <td>315.956689</td>\n",
       "      <td>309.250585</td>\n",
       "      <td>314.330078</td>\n",
       "      <td>29386800</td>\n",
       "      <td>...</td>\n",
       "      <td>88.294596</td>\n",
       "      <td>88.653194</td>\n",
       "      <td>87.069393</td>\n",
       "      <td>88.135223</td>\n",
       "      <td>7249800</td>\n",
       "      <td>171.848239</td>\n",
       "      <td>174.700395</td>\n",
       "      <td>170.352346</td>\n",
       "      <td>174.600677</td>\n",
       "      <td>76138300</td>\n",
       "    </tr>\n",
       "    <tr>\n",
       "      <th>2022-01-12</th>\n",
       "      <td>584.006658</td>\n",
       "      <td>588.760129</td>\n",
       "      <td>575.009025</td>\n",
       "      <td>576.467041</td>\n",
       "      <td>1433700</td>\n",
       "      <td>319.010386</td>\n",
       "      <td>322.742659</td>\n",
       "      <td>316.425704</td>\n",
       "      <td>317.613251</td>\n",
       "      <td>34372200</td>\n",
       "      <td>...</td>\n",
       "      <td>88.543623</td>\n",
       "      <td>89.171165</td>\n",
       "      <td>87.328376</td>\n",
       "      <td>87.965881</td>\n",
       "      <td>5840300</td>\n",
       "      <td>175.637835</td>\n",
       "      <td>176.694930</td>\n",
       "      <td>174.341406</td>\n",
       "      <td>175.049454</td>\n",
       "      <td>74805200</td>\n",
       "    </tr>\n",
       "    <tr>\n",
       "      <th>2022-01-13</th>\n",
       "      <td>580.092072</td>\n",
       "      <td>581.729834</td>\n",
       "      <td>550.942167</td>\n",
       "      <td>552.160461</td>\n",
       "      <td>1633400</td>\n",
       "      <td>319.808730</td>\n",
       "      <td>320.217888</td>\n",
       "      <td>303.372714</td>\n",
       "      <td>304.171051</td>\n",
       "      <td>45366000</td>\n",
       "      <td>...</td>\n",
       "      <td>88.384246</td>\n",
       "      <td>88.573500</td>\n",
       "      <td>87.208844</td>\n",
       "      <td>87.447906</td>\n",
       "      <td>6044300</td>\n",
       "      <td>175.298765</td>\n",
       "      <td>176.136462</td>\n",
       "      <td>171.319683</td>\n",
       "      <td>171.718597</td>\n",
       "      <td>84505800</td>\n",
       "    </tr>\n",
       "    <tr>\n",
       "      <th>2022-01-14</th>\n",
       "      <td>550.572622</td>\n",
       "      <td>556.574376</td>\n",
       "      <td>542.653524</td>\n",
       "      <td>550.033325</td>\n",
       "      <td>1722600</td>\n",
       "      <td>303.622202</td>\n",
       "      <td>310.178652</td>\n",
       "      <td>303.123233</td>\n",
       "      <td>309.559937</td>\n",
       "      <td>39846400</td>\n",
       "      <td>...</td>\n",
       "      <td>87.139116</td>\n",
       "      <td>87.756696</td>\n",
       "      <td>86.322312</td>\n",
       "      <td>87.348297</td>\n",
       "      <td>6054800</td>\n",
       "      <td>170.870932</td>\n",
       "      <td>173.304254</td>\n",
       "      <td>170.621616</td>\n",
       "      <td>172.596207</td>\n",
       "      <td>80440800</td>\n",
       "    </tr>\n",
       "  </tbody>\n",
       "</table>\n",
       "<p>10 rows × 335 columns</p>\n",
       "</div>"
      ],
      "text/plain": [
       "                  INTU                                               \\\n",
       "                  Open        High         Low       Close   Volume   \n",
       "Date                                                                  \n",
       "2022-01-03  638.409664  643.975493  619.707133  629.871277  1360600   \n",
       "2022-01-04  629.871311  629.871311  604.595497  616.754639  1998900   \n",
       "2022-01-05  607.887055  613.133748  591.668212  592.196899  2295800   \n",
       "2022-01-06  585.314392  594.341468  578.741110  584.905457  1789000   \n",
       "2022-01-07  585.634404  588.180889  562.995563  566.780334  2275200   \n",
       "2022-01-10  552.759655  570.105789  543.112890  569.406738  2956700   \n",
       "2022-01-11  565.422228  578.813780  557.752785  577.924988  1696500   \n",
       "2022-01-12  584.006658  588.760129  575.009025  576.467041  1433700   \n",
       "2022-01-13  580.092072  581.729834  550.942167  552.160461  1633400   \n",
       "2022-01-14  550.572622  556.574376  542.653524  550.033325  1722600   \n",
       "\n",
       "                  MSFT                                                ...  \\\n",
       "                  Open        High         Low       Close    Volume  ...   \n",
       "Date                                                                  ...   \n",
       "2022-01-03  334.658033  337.302559  329.099519  334.059265  28865100  ...   \n",
       "2022-01-04  334.139083  334.508345  325.447064  328.331116  32674300  ...   \n",
       "2022-01-05  325.187592  325.397181  315.328004  315.727173  40054300  ...   \n",
       "2022-01-06  312.503826  318.042392  310.847247  313.232330  39646100  ...   \n",
       "2022-01-07  313.501757  315.846914  309.450137  313.391998  32720000  ...   \n",
       "2022-01-10  308.851385  314.070605  304.061302  313.621521  44289500  ...   \n",
       "2022-01-11  312.733373  315.956689  309.250585  314.330078  29386800  ...   \n",
       "2022-01-12  319.010386  322.742659  316.425704  317.613251  34372200  ...   \n",
       "2022-01-13  319.808730  320.217888  303.372714  304.171051  45366000  ...   \n",
       "2022-01-14  303.622202  310.178652  303.123233  309.559937  39846400  ...   \n",
       "\n",
       "                 ORCL                                                   AAPL  \\\n",
       "                 Open       High        Low      Close    Volume        Open   \n",
       "Date                                                                           \n",
       "2022-01-03  86.667737  87.273111  85.109643  87.233414  10644400  177.343154   \n",
       "2022-01-04  87.233416  88.900676  87.064707  88.166283  11959000  182.130025   \n",
       "2022-01-05  87.818941  87.928107  85.566159  85.804337  11236700  179.118295   \n",
       "2022-01-06  85.664884  87.079349  85.216640  86.003555   7918400  172.227194   \n",
       "2022-01-07  86.113124  87.657087  85.943788  87.168999   9836800  172.416684   \n",
       "2022-01-10  87.039501  89.031707  86.611176  88.932098  11025500  168.617111   \n",
       "2022-01-11  88.294596  88.653194  87.069393  88.135223   7249800  171.848239   \n",
       "2022-01-12  88.543623  89.171165  87.328376  87.965881   5840300  175.637835   \n",
       "2022-01-13  88.384246  88.573500  87.208844  87.447906   6044300  175.298765   \n",
       "2022-01-14  87.139116  87.756696  86.322312  87.348297   6054800  170.870932   \n",
       "\n",
       "                                                           \n",
       "                  High         Low       Close     Volume  \n",
       "Date                                                       \n",
       "2022-01-03  182.379332  177.223488  181.511703  104487900  \n",
       "2022-01-04  182.439174  178.629624  179.208038   99310400  \n",
       "2022-01-05  179.676759  174.161899  174.441132   94537600  \n",
       "2022-01-06  174.820082  171.170099  171.529114   96904000  \n",
       "2022-01-07  173.663262  170.561776  171.698654   86709100  \n",
       "2022-01-10  172.027746  167.709599  171.718597  106765600  \n",
       "2022-01-11  174.700395  170.352346  174.600677   76138300  \n",
       "2022-01-12  176.694930  174.341406  175.049454   74805200  \n",
       "2022-01-13  176.136462  171.319683  171.718597   84505800  \n",
       "2022-01-14  173.304254  170.621616  172.596207   80440800  \n",
       "\n",
       "[10 rows x 335 columns]"
      ]
     },
     "execution_count": 25,
     "metadata": {},
     "output_type": "execute_result"
    }
   ],
   "source": [
    "# Preview the stock prices data. The data is grouped by the symbol of each company\n",
    "\n",
    "data.head(10)"
   ]
  },
  {
   "cell_type": "code",
   "execution_count": 26,
   "metadata": {},
   "outputs": [
    {
     "data": {
      "text/html": [
       "<div>\n",
       "<style scoped>\n",
       "    .dataframe tbody tr th:only-of-type {\n",
       "        vertical-align: middle;\n",
       "    }\n",
       "\n",
       "    .dataframe tbody tr th {\n",
       "        vertical-align: top;\n",
       "    }\n",
       "\n",
       "    .dataframe thead th {\n",
       "        text-align: right;\n",
       "    }\n",
       "</style>\n",
       "<table border=\"1\" class=\"dataframe\">\n",
       "  <thead>\n",
       "    <tr style=\"text-align: right;\">\n",
       "      <th></th>\n",
       "      <th>Open</th>\n",
       "      <th>High</th>\n",
       "      <th>Low</th>\n",
       "      <th>Close</th>\n",
       "      <th>Volume</th>\n",
       "    </tr>\n",
       "    <tr>\n",
       "      <th>Date</th>\n",
       "      <th></th>\n",
       "      <th></th>\n",
       "      <th></th>\n",
       "      <th></th>\n",
       "      <th></th>\n",
       "    </tr>\n",
       "  </thead>\n",
       "  <tbody>\n",
       "    <tr>\n",
       "      <th>2022-05-13</th>\n",
       "      <td>283.040009</td>\n",
       "      <td>288.670013</td>\n",
       "      <td>280.989990</td>\n",
       "      <td>286.769989</td>\n",
       "      <td>2373600</td>\n",
       "    </tr>\n",
       "    <tr>\n",
       "      <th>2022-05-12</th>\n",
       "      <td>278.000000</td>\n",
       "      <td>281.660004</td>\n",
       "      <td>274.790009</td>\n",
       "      <td>281.209991</td>\n",
       "      <td>2284600</td>\n",
       "    </tr>\n",
       "    <tr>\n",
       "      <th>2022-05-11</th>\n",
       "      <td>285.730011</td>\n",
       "      <td>288.489990</td>\n",
       "      <td>280.459991</td>\n",
       "      <td>280.940002</td>\n",
       "      <td>2398600</td>\n",
       "    </tr>\n",
       "    <tr>\n",
       "      <th>2022-05-10</th>\n",
       "      <td>290.000000</td>\n",
       "      <td>292.399994</td>\n",
       "      <td>283.750000</td>\n",
       "      <td>287.589996</td>\n",
       "      <td>2634600</td>\n",
       "    </tr>\n",
       "    <tr>\n",
       "      <th>2022-05-09</th>\n",
       "      <td>290.660004</td>\n",
       "      <td>292.489990</td>\n",
       "      <td>285.859985</td>\n",
       "      <td>287.489990</td>\n",
       "      <td>2584100</td>\n",
       "    </tr>\n",
       "    <tr>\n",
       "      <th>...</th>\n",
       "      <td>...</td>\n",
       "      <td>...</td>\n",
       "      <td>...</td>\n",
       "      <td>...</td>\n",
       "      <td>...</td>\n",
       "    </tr>\n",
       "    <tr>\n",
       "      <th>2022-01-07</th>\n",
       "      <td>376.987185</td>\n",
       "      <td>377.882187</td>\n",
       "      <td>368.086849</td>\n",
       "      <td>368.693451</td>\n",
       "      <td>3469000</td>\n",
       "    </tr>\n",
       "    <tr>\n",
       "      <th>2022-01-06</th>\n",
       "      <td>382.556122</td>\n",
       "      <td>390.024473</td>\n",
       "      <td>373.675664</td>\n",
       "      <td>375.903229</td>\n",
       "      <td>4386600</td>\n",
       "    </tr>\n",
       "    <tr>\n",
       "      <th>2022-01-05</th>\n",
       "      <td>401.689395</td>\n",
       "      <td>401.729182</td>\n",
       "      <td>394.897294</td>\n",
       "      <td>394.976837</td>\n",
       "      <td>2471400</td>\n",
       "    </tr>\n",
       "    <tr>\n",
       "      <th>2022-01-04</th>\n",
       "      <td>406.542335</td>\n",
       "      <td>409.088133</td>\n",
       "      <td>400.963468</td>\n",
       "      <td>402.057343</td>\n",
       "      <td>2516300</td>\n",
       "    </tr>\n",
       "    <tr>\n",
       "      <th>2022-01-03</th>\n",
       "      <td>412.359889</td>\n",
       "      <td>413.225059</td>\n",
       "      <td>402.793256</td>\n",
       "      <td>404.951202</td>\n",
       "      <td>2129900</td>\n",
       "    </tr>\n",
       "  </tbody>\n",
       "</table>\n",
       "<p>92 rows × 5 columns</p>\n",
       "</div>"
      ],
      "text/plain": [
       "                  Open        High         Low       Close   Volume\n",
       "Date                                                               \n",
       "2022-05-13  283.040009  288.670013  280.989990  286.769989  2373600\n",
       "2022-05-12  278.000000  281.660004  274.790009  281.209991  2284600\n",
       "2022-05-11  285.730011  288.489990  280.459991  280.940002  2398600\n",
       "2022-05-10  290.000000  292.399994  283.750000  287.589996  2634600\n",
       "2022-05-09  290.660004  292.489990  285.859985  287.489990  2584100\n",
       "...                ...         ...         ...         ...      ...\n",
       "2022-01-07  376.987185  377.882187  368.086849  368.693451  3469000\n",
       "2022-01-06  382.556122  390.024473  373.675664  375.903229  4386600\n",
       "2022-01-05  401.689395  401.729182  394.897294  394.976837  2471400\n",
       "2022-01-04  406.542335  409.088133  400.963468  402.057343  2516300\n",
       "2022-01-03  412.359889  413.225059  402.793256  404.951202  2129900\n",
       "\n",
       "[92 rows x 5 columns]"
      ]
     },
     "execution_count": 26,
     "metadata": {},
     "output_type": "execute_result"
    }
   ],
   "source": [
    "# I slice the data by sticker to view accenture stock price \n",
    "\n",
    "data['ACN'].sort_values(by='Date', ascending=False)"
   ]
  },
  {
   "cell_type": "markdown",
   "metadata": {},
   "source": [
    "### Case: Accenture"
   ]
  },
  {
   "cell_type": "code",
   "execution_count": 27,
   "metadata": {},
   "outputs": [
    {
     "data": {
      "text/html": [
       "<div>\n",
       "<style scoped>\n",
       "    .dataframe tbody tr th:only-of-type {\n",
       "        vertical-align: middle;\n",
       "    }\n",
       "\n",
       "    .dataframe tbody tr th {\n",
       "        vertical-align: top;\n",
       "    }\n",
       "\n",
       "    .dataframe thead th {\n",
       "        text-align: right;\n",
       "    }\n",
       "</style>\n",
       "<table border=\"1\" class=\"dataframe\">\n",
       "  <thead>\n",
       "    <tr style=\"text-align: right;\">\n",
       "      <th></th>\n",
       "      <th>Close</th>\n",
       "      <th>Date</th>\n",
       "    </tr>\n",
       "    <tr>\n",
       "      <th>Date</th>\n",
       "      <th></th>\n",
       "      <th></th>\n",
       "    </tr>\n",
       "  </thead>\n",
       "  <tbody>\n",
       "    <tr>\n",
       "      <th>2022-01-03</th>\n",
       "      <td>404.951202</td>\n",
       "      <td>2022-01-03</td>\n",
       "    </tr>\n",
       "    <tr>\n",
       "      <th>2022-01-04</th>\n",
       "      <td>402.057343</td>\n",
       "      <td>2022-01-04</td>\n",
       "    </tr>\n",
       "    <tr>\n",
       "      <th>2022-01-05</th>\n",
       "      <td>394.976837</td>\n",
       "      <td>2022-01-05</td>\n",
       "    </tr>\n",
       "    <tr>\n",
       "      <th>2022-01-06</th>\n",
       "      <td>375.903229</td>\n",
       "      <td>2022-01-06</td>\n",
       "    </tr>\n",
       "    <tr>\n",
       "      <th>2022-01-07</th>\n",
       "      <td>368.693451</td>\n",
       "      <td>2022-01-07</td>\n",
       "    </tr>\n",
       "  </tbody>\n",
       "</table>\n",
       "</div>"
      ],
      "text/plain": [
       "                 Close       Date\n",
       "Date                             \n",
       "2022-01-03  404.951202 2022-01-03\n",
       "2022-01-04  402.057343 2022-01-04\n",
       "2022-01-05  394.976837 2022-01-05\n",
       "2022-01-06  375.903229 2022-01-06\n",
       "2022-01-07  368.693451 2022-01-07"
      ]
     },
     "execution_count": 27,
     "metadata": {},
     "output_type": "execute_result"
    }
   ],
   "source": [
    "# This code pull the closing prices of accenture shares & passes into a new variable for analysis.\n",
    "\n",
    "data2 = pd.DataFrame(data['ACN']['Close'])\n",
    "data2['Date'] = data.index\n",
    "data2.head()\n"
   ]
  },
  {
   "cell_type": "code",
   "execution_count": 28,
   "metadata": {},
   "outputs": [
    {
     "data": {
      "image/png": "[encoded data removed]",
      "text/plain": [
       "<Figure size 504x288 with 1 Axes>"
      ]
     },
     "metadata": {
      "needs_background": "light"
     },
     "output_type": "display_data"
    }
   ],
   "source": [
    "# Review accenture stock performance\n",
    "\n",
    "fig, ax = plt.subplots(figsize=(7,4))\n",
    "plt.plot(data2['Date'], data2['Close'])\n",
    "plt.xticks(rotation = 90)\n",
    "ax.set_title('Historic Closing Price')\n",
    "ax.set_xlabel('Date')\n",
    "ax.set_ylabel('Closing Price')\n",
    "plt.fill_between(data2['Date'],data2['Close'],color='skyblue', alpha=0.4)\n",
    "plt.show()"
   ]
  },
  {
   "cell_type": "code",
   "execution_count": 29,
   "metadata": {},
   "outputs": [],
   "source": [
    "# A helper function to generate stock price charts when we call the company symbol\n",
    "\n",
    "def plot_historic_price(symbol):\n",
    "    fig, ax = plt.subplots()\n",
    "    data3 = pd.DataFrame(data[symbol].Close)\n",
    "    data3['Date'] = data.index\n",
    "    plt.fill_between(data3['Date'],data3['Close'],color='skyblue', alpha=0.4)\n",
    "    plt.plot(data3['Date'], data3['Close'], color='Skyblue', alpha=0.4)\n",
    "    plt.xticks(rotation = 90)\n",
    "    ax.set_title(symbol, fontweight ='bold')\n",
    "    ax.set_xlabel('Date', fontweight ='bold')\n",
    "    ax.set_ylabel('Closing Price', fontweight='bold')\n",
    "    return plt.show()"
   ]
  },
  {
   "cell_type": "code",
   "execution_count": 30,
   "metadata": {},
   "outputs": [
    {
     "data": {
      "image/png": "[encoded data removed]",
      "text/plain": [
       "<Figure size 432x288 with 1 Axes>"
      ]
     },
     "metadata": {
      "needs_background": "light"
     },
     "output_type": "display_data"
    }
   ],
   "source": [
    "# Here, I plot the share price of Accenture\n",
    "\n",
    "plot_historic_price('ACN')"
   ]
  },
  {
   "cell_type": "code",
   "execution_count": 31,
   "metadata": {},
   "outputs": [
    {
     "data": {
      "image/png": "[encoded data removed]",
      "text/plain": [
       "<Figure size 432x288 with 1 Axes>"
      ]
     },
     "metadata": {
      "needs_background": "light"
     },
     "output_type": "display_data"
    },
    {
     "data": {
      "image/png": "[encoded data removed]",
      "text/plain": [
       "<Figure size 432x288 with 1 Axes>"
      ]
     },
     "metadata": {
      "needs_background": "light"
     },
     "output_type": "display_data"
    },
    {
     "data": {
      "image/png": "[encoded data removed]",
      "text/plain": [
       "<Figure size 432x288 with 1 Axes>"
      ]
     },
     "metadata": {
      "needs_background": "light"
     },
     "output_type": "display_data"
    },
    {
     "data": {
      "image/png": "[encoded data removed]",
      "text/plain": [
       "<Figure size 432x288 with 1 Axes>"
      ]
     },
     "metadata": {
      "needs_background": "light"
     },
     "output_type": "display_data"
    },
    {
     "data": {
      "image/png": "[encoded data removed]",
      "text/plain": [
       "<Figure size 432x288 with 1 Axes>"
      ]
     },
     "metadata": {
      "needs_background": "light"
     },
     "output_type": "display_data"
    }
   ],
   "source": [
    "# Using the helper function, we can look up specific stocks or a selection based on slice, as below\n",
    "\n",
    "for company in list(df2['Symbol'])[:5]:\n",
    "    plot_historic_price(company)\n"
   ]
  },
  {
   "cell_type": "markdown",
   "metadata": {},
   "source": [
    "# Part 2. Stock Price Prediction, Using ARIMA Model"
   ]
  },
  {
   "cell_type": "markdown",
   "metadata": {},
   "source": [
    "## ARIMA MODEL\n",
    "\n",
    "ARIMA is a statistical analysis model that uses time series data to either better understand the data set or to predict future trends. A statistical model is said to be autoregressive if it predicts future values based on past values. The ARIMA models combines both autoregressive and moving average approaches. \n",
    "\n",
    "The ARIMA model will be implemented in Python, as follows;\n",
    "\n",
    "* Visualize the data.\n",
    "* Convert the time series data to a stationary form.\n",
    "* Plot the ACF and PACF plots.\n",
    "* Build the ARIMA model.\n",
    "* Make the predictions using the ARIMA model built\n",
    "\n",
    "\n"
   ]
  },
  {
   "cell_type": "code",
   "execution_count": 32,
   "metadata": {},
   "outputs": [],
   "source": [
    "# Here, I import the relevant models\n",
    "\n",
    "from sklearn.model_selection import train_test_split\n",
    "import statsmodels as sm\n",
    "from statsmodels.graphics.tsaplots import plot_acf\n",
    "from statsmodels.tsa.stattools import adfuller\n",
    "from numpy import log"
   ]
  },
  {
   "cell_type": "markdown",
   "metadata": {},
   "source": [
    "### 1. Let's analyze the data through various visualization plots"
   ]
  },
  {
   "cell_type": "code",
   "execution_count": 33,
   "metadata": {},
   "outputs": [
    {
     "data": {
      "text/html": [
       "<div>\n",
       "<style scoped>\n",
       "    .dataframe tbody tr th:only-of-type {\n",
       "        vertical-align: middle;\n",
       "    }\n",
       "\n",
       "    .dataframe tbody tr th {\n",
       "        vertical-align: top;\n",
       "    }\n",
       "\n",
       "    .dataframe thead th {\n",
       "        text-align: right;\n",
       "    }\n",
       "</style>\n",
       "<table border=\"1\" class=\"dataframe\">\n",
       "  <thead>\n",
       "    <tr style=\"text-align: right;\">\n",
       "      <th></th>\n",
       "      <th>Close</th>\n",
       "      <th>Date</th>\n",
       "    </tr>\n",
       "    <tr>\n",
       "      <th>Date</th>\n",
       "      <th></th>\n",
       "      <th></th>\n",
       "    </tr>\n",
       "  </thead>\n",
       "  <tbody>\n",
       "    <tr>\n",
       "      <th>2022-01-03</th>\n",
       "      <td>404.951202</td>\n",
       "      <td>2022-01-03</td>\n",
       "    </tr>\n",
       "    <tr>\n",
       "      <th>2022-01-04</th>\n",
       "      <td>402.057343</td>\n",
       "      <td>2022-01-04</td>\n",
       "    </tr>\n",
       "  </tbody>\n",
       "</table>\n",
       "</div>"
      ],
      "text/plain": [
       "                 Close       Date\n",
       "Date                             \n",
       "2022-01-03  404.951202 2022-01-03\n",
       "2022-01-04  402.057343 2022-01-04"
      ]
     },
     "execution_count": 33,
     "metadata": {},
     "output_type": "execute_result"
    }
   ],
   "source": [
    "# Let's make the data pneumonic\n",
    "\n",
    "acn_data = data2.copy()\n",
    "acn_data.head(2)"
   ]
  },
  {
   "cell_type": "code",
   "execution_count": 34,
   "metadata": {},
   "outputs": [
    {
     "data": {
      "image/png": "[encoded data removed]",
      "text/plain": [
       "<Figure size 432x288 with 1 Axes>"
      ]
     },
     "metadata": {
      "needs_background": "light"
     },
     "output_type": "display_data"
    }
   ],
   "source": [
    "# Call the helper function to visualize the stock price\n",
    "\n",
    "plot_historic_price('ACN')\n"
   ]
  },
  {
   "cell_type": "code",
   "execution_count": 35,
   "metadata": {},
   "outputs": [
    {
     "data": {
      "image/png": "[encoded data removed]",
      "text/plain": [
       "<Figure size 576x360 with 1 Axes>"
      ]
     },
     "metadata": {
      "needs_background": "light"
     },
     "output_type": "display_data"
    }
   ],
   "source": [
    "# Let's compare 4-month simple moving average along with the series to ascertain trend. \n",
    "# The standard deviation is also plotted to see if there is any variance.\n",
    "\n",
    "\n",
    "acn_data['Close'].rolling(4).mean().plot(label='SMA',figsize=(8,5))\n",
    "acn_data['Close'].rolling(4).std().plot(label='STD')\n",
    "acn_data['Close'].plot()\n",
    "plt.legend()\n",
    "plt.show()"
   ]
  },
  {
   "cell_type": "markdown",
   "metadata": {},
   "source": [
    "As seen from above, the standard deviation is not varying much, hence variance is not much."
   ]
  },
  {
   "cell_type": "code",
   "execution_count": 36,
   "metadata": {},
   "outputs": [
    {
     "data": {
      "image/png": "[encoded data removed]",
      "text/plain": [
       "<Figure size 576x360 with 4 Axes>"
      ]
     },
     "metadata": {
      "needs_background": "light"
     },
     "output_type": "display_data"
    }
   ],
   "source": [
    "# Next, we decompose the time series data to its trend, seasonality & residual components.\n",
    "\n",
    "from statsmodels.tsa.seasonal import seasonal_decompose\n",
    "\n",
    "decomp = seasonal_decompose(acn_data['Close'], model='additive',freq=12, extrapolate_trend = 12)\n",
    "fig = decomp.plot()\n",
    "fig.set_size_inches(8,5)\n"
   ]
  },
  {
   "cell_type": "markdown",
   "metadata": {},
   "source": [
    "### 2. Convert time-series data to stationary form\n",
    "\n",
    "We will use the Dickey Fuller & KPSS methods. Both tests are recommended to ascertain stationarity of data. \n",
    "\n",
    "According to Dickey-Fuller; \n",
    "\n",
    "* The null hypothesis states a unit root is present and it is a non-stationary time series. \n",
    "* The alternative hypothesis is that there is no unit root and the series is stationary.\n",
    "* Using parameter ‘p’. If p is p<=0.05, we reject the null hypothesis, otherwise we accept the hypothesis.\n",
    "\n",
    "According to KPSS Test;\n",
    "\n",
    "* Null Hypothesis states that process is trend stationary.\n",
    "* Alternate Hypothesis states that series has a unit root and series is not stationary.\n",
    "\n",
    "\n",
    "#### How the results is to be interpreted\n",
    "\n",
    "* Case 1 - Both tests conclude that the series is not stationary - The series is not stationary\n",
    "* Case 2 - Both tests conclude that the series is stationary - The series is stationary\n",
    "* Case 3 - KPSS indicates stationarity & ADF indicates non-stationarity - Series is trend stationary. Trend will be removed to make series strict stationary. \n",
    "* Case 4 - KPSS indicates non-stationarity and ADF indicates stationarity - Series is difference stationary. Differencing is to be used to make series stationary. "
   ]
  },
  {
   "cell_type": "code",
   "execution_count": 37,
   "metadata": {},
   "outputs": [
    {
     "data": {
      "text/plain": [
       "(-2.730888334362359,\n",
       " 0.06884404812858048,\n",
       " 0,\n",
       " 91,\n",
       " {'1%': -3.50434289821397,\n",
       "  '5%': -2.8938659630479413,\n",
       "  '10%': -2.5840147047458037},\n",
       " 524.9718069968949)"
      ]
     },
     "execution_count": 37,
     "metadata": {},
     "output_type": "execute_result"
    }
   ],
   "source": [
    "from statsmodels.tsa.stattools import adfuller\n",
    "fuller_test = adfuller(acn_data['Close'])\n",
    "fuller_test"
   ]
  },
  {
   "cell_type": "code",
   "execution_count": 38,
   "metadata": {},
   "outputs": [
    {
     "name": "stdout",
     "output_type": "stream",
     "text": [
      "P-Value:  0.06884404812858048\n",
      "Data is not stationary, do not reject null hypothesis\n"
     ]
    }
   ],
   "source": [
    "# Next, I will create a helper function to conduct ADF Test\n",
    "\n",
    "def display_p_value(data):\n",
    "    fuller_test = adfuller(data)\n",
    "    print('P-Value: ', fuller_test[1])\n",
    "    if fuller_test[1] <= 0.05:\n",
    "        print('Data is stationary, therefore reject null hypothesis')\n",
    "    else:\n",
    "        print('Data is not stationary, do not reject null hypothesis')\n",
    "        \n",
    "\n",
    "# Let's call the function on our data\n",
    "\n",
    "display_p_value(acn_data['Close'])\n",
    " "
   ]
  },
  {
   "cell_type": "code",
   "execution_count": 39,
   "metadata": {},
   "outputs": [
    {
     "name": "stdout",
     "output_type": "stream",
     "text": [
      "Results of KPSS Test:\n",
      "Test Statistic            0.605984\n",
      "p-value                   0.022092\n",
      "Lags Used                12.000000\n",
      "Critical Value (10%)      0.347000\n",
      "Critical Value (5%)       0.463000\n",
      "Critical Value (2.5%)     0.574000\n",
      "Critical Value (1%)       0.739000\n",
      "dtype: float64\n"
     ]
    }
   ],
   "source": [
    "# Next, we will create a helper function to conduct KPSS Test\n",
    "\n",
    "from statsmodels.tsa.stattools import kpss\n",
    "\n",
    "def kpss_test_result(timeseriesdata):\n",
    "    print(\"Results of KPSS Test:\")\n",
    "    kpsstest = kpss(timeseriesdata, regression=\"c\", lags='legacy')\n",
    "    kpss_output = pd.Series(kpsstest[0:3], index=[\"Test Statistic\", \"p-value\", \"Lags Used\"])\n",
    "    \n",
    "    for key, value in kpsstest[3].items():\n",
    "        kpss_output[\"Critical Value (%s)\" % key] = value\n",
    "    print(kpss_output)\n",
    "\n",
    "\n",
    "# Let's call the function on our data\n",
    "\n",
    "kpss_test_result(acn_data['Close'])"
   ]
  },
  {
   "cell_type": "markdown",
   "metadata": {},
   "source": [
    "KPSS test results stationary data as p-value is < 0.05"
   ]
  },
  {
   "cell_type": "markdown",
   "metadata": {},
   "source": [
    "#### Result Summary : We have a situation of case 4. Hence, I will implement differencing."
   ]
  },
  {
   "cell_type": "code",
   "execution_count": 40,
   "metadata": {},
   "outputs": [
    {
     "data": {
      "image/png": "[encoded data removed]",
      "text/plain": [
       "<Figure size 576x360 with 1 Axes>"
      ]
     },
     "metadata": {
      "needs_background": "light"
     },
     "output_type": "display_data"
    }
   ],
   "source": [
    "# First differencing\n",
    "\n",
    "fig, ax = plt.subplots(figsize=(8,5))\n",
    "acn_data['first_differencing'] = acn_data['Close'] - acn_data['Close'].shift(1)\n",
    "acn_data['first_differencing'].plot()\n",
    "plt.show()\n"
   ]
  },
  {
   "cell_type": "code",
   "execution_count": 41,
   "metadata": {},
   "outputs": [
    {
     "name": "stdout",
     "output_type": "stream",
     "text": [
      "P-Value:  2.2089606460270262e-16\n",
      "Data is stationary, therefore reject null hypothesis\n"
     ]
    }
   ],
   "source": [
    "# I call the ADF helper function to check stationarity after first differecing.\n",
    "\n",
    "display_p_value(acn_data['first_differencing'].dropna())"
   ]
  },
  {
   "cell_type": "code",
   "execution_count": 168,
   "metadata": {},
   "outputs": [
    {
     "name": "stdout",
     "output_type": "stream",
     "text": [
      "Results of KPSS Test:\n",
      "Test Statistic            0.19272\n",
      "p-value                   0.10000\n",
      "Lags Used                12.00000\n",
      "Critical Value (10%)      0.34700\n",
      "Critical Value (5%)       0.46300\n",
      "Critical Value (2.5%)     0.57400\n",
      "Critical Value (1%)       0.73900\n",
      "dtype: float64\n"
     ]
    }
   ],
   "source": [
    "# I call the KPSS helper function to check stationarity after first differecing.\n",
    "\n",
    "kpss_test_result(acn_data['first_differencing'].dropna())"
   ]
  },
  {
   "cell_type": "markdown",
   "metadata": {},
   "source": [
    "Data is now stationary judging from both ADF & KPSS test conducted."
   ]
  },
  {
   "cell_type": "markdown",
   "metadata": {},
   "source": [
    "### 3. Plot ACF and PACF"
   ]
  },
  {
   "cell_type": "code",
   "execution_count": 43,
   "metadata": {},
   "outputs": [
    {
     "data": {
      "image/png": "[encoded data removed]",
      "text/plain": [
       "<Figure size 432x288 with 1 Axes>"
      ]
     },
     "metadata": {
      "needs_background": "light"
     },
     "output_type": "display_data"
    }
   ],
   "source": [
    "# We only differenced once to get to this, so, d=1 in ARIMA model\n",
    "\n",
    "from statsmodels.graphics.tsaplots import plot_acf, plot_pacf\n",
    "first_differencing = plot_acf(acn_data['first_differencing'].dropna())\n"
   ]
  },
  {
   "cell_type": "code",
   "execution_count": 44,
   "metadata": {},
   "outputs": [
    {
     "data": {
      "image/png": "[encoded data removed]",
      "text/plain": [
       "<Figure size 432x288 with 1 Axes>"
      ]
     },
     "metadata": {
      "needs_background": "light"
     },
     "output_type": "display_data"
    }
   ],
   "source": [
    "from statsmodels.graphics.tsaplots import plot_acf, plot_pacf\n",
    "pacf_first_differencing = plot_pacf(acn_data['first_differencing'].dropna())"
   ]
  },
  {
   "cell_type": "markdown",
   "metadata": {},
   "source": [
    "As observed above, the first differencing was enough to make the data stationary.\n"
   ]
  },
  {
   "cell_type": "markdown",
   "metadata": {},
   "source": [
    "### 4. Build & Fit the ARIMA Model"
   ]
  },
  {
   "cell_type": "code",
   "execution_count": 169,
   "metadata": {},
   "outputs": [
    {
     "name": "stdout",
     "output_type": "stream",
     "text": [
      "                             ARIMA Model Results                              \n",
      "==============================================================================\n",
      "Dep. Variable:                D.Close   No. Observations:                   91\n",
      "Model:                 ARIMA(1, 1, 0)   Log Likelihood                -303.365\n",
      "Method:                       css-mle   S.D. of innovations              6.785\n",
      "Date:                Mon, 16 May 2022   AIC                            612.729\n",
      "Time:                        09:47:12   BIC                            620.262\n",
      "Sample:                             1   HQIC                           615.768\n",
      "                                                                              \n",
      "=================================================================================\n",
      "                    coef    std err          z      P>|z|      [0.025      0.975]\n",
      "---------------------------------------------------------------------------------\n",
      "const            -1.3002      0.694     -1.875      0.064      -2.660       0.059\n",
      "ar.L1.D.Close    -0.0259      0.105     -0.247      0.806      -0.231       0.180\n",
      "                                    Roots                                    \n",
      "=============================================================================\n",
      "                  Real          Imaginary           Modulus         Frequency\n",
      "-----------------------------------------------------------------------------\n",
      "AR.1          -38.6788           +0.0000j           38.6788            0.5000\n",
      "-----------------------------------------------------------------------------\n"
     ]
    }
   ],
   "source": [
    "# Let's fit the ARIMA model\n",
    "\n",
    "from statsmodels.tsa.arima_model import ARIMA\n",
    "\n",
    "arima_model = ARIMA(acn_data['Close'], order=(1,1,0))\n",
    "model = arima_model.fit()\n",
    "print(model.summary())"
   ]
  },
  {
   "cell_type": "code",
   "execution_count": 47,
   "metadata": {},
   "outputs": [
    {
     "data": {
      "image/png": "[encoded data removed]",
      "text/plain": [
       "<Figure size 576x396 with 1 Axes>"
      ]
     },
     "metadata": {
      "needs_background": "light"
     },
     "output_type": "display_data"
    },
    {
     "data": {
      "image/png": "[encoded data removed]",
      "text/plain": [
       "<Figure size 576x396 with 1 Axes>"
      ]
     },
     "metadata": {
      "needs_background": "light"
     },
     "output_type": "display_data"
    },
    {
     "name": "stdout",
     "output_type": "stream",
     "text": [
      "               0\n",
      "count  91.000000\n",
      "mean   -0.000452\n",
      "std     6.822734\n",
      "min   -17.922900\n",
      "25%    -4.316036\n",
      "50%     0.979051\n",
      "75%     4.569694\n",
      "max    12.276514\n"
     ]
    }
   ],
   "source": [
    "\n",
    "plt.rcParams[\"figure.figsize\"] = (8,5.5)\n",
    "\n",
    "\n",
    "# line plot of residuals\n",
    "residuals = pd.DataFrame(model.resid)\n",
    "residuals.plot()\n",
    "plt.show()\n",
    "\n",
    "# density plot of residuals\n",
    "residuals.plot(kind='kde')\n",
    "plt.show()\n",
    "\n",
    "# summary stats of residuals\n",
    "print(residuals.describe())"
   ]
  },
  {
   "cell_type": "markdown",
   "metadata": {},
   "source": [
    "The distribution of the errors can be seen by plotting the KDE. And as seen from above plot, the errors are mostly distributed around 0, but there is slight bias.\n"
   ]
  },
  {
   "cell_type": "code",
   "execution_count": 163,
   "metadata": {},
   "outputs": [
    {
     "data": {
      "image/png": "[encoded data removed]",
      "text/plain": [
       "<Figure size 576x396 with 1 Axes>"
      ]
     },
     "metadata": {
      "needs_background": "light"
     },
     "output_type": "display_data"
    }
   ],
   "source": [
    "# After model fitting, now to predict\n",
    "\n",
    "model.plot_predict(dynamic=False)\n",
    "plt.show()"
   ]
  },
  {
   "cell_type": "markdown",
   "metadata": {},
   "source": [
    "## Closing Notes\n",
    "\n",
    "* Ideally, although I have used the entire dataset in this analysis, ideally I would split into train and test.\n",
    "* Data was not stationary (a requirement to develop an ARIMA model), using differencing, I got the data stationary.\n",
    "* Using both ADF and KPSS test was necessary to be totally sure the data was stationary.\n",
    "* As seen above, the modern performs pretty well in predicting the stock closing price.\n"
   ]
  }
 ],
 "metadata": {
  "kernelspec": {
   "display_name": "Python 3",
   "language": "python",
   "name": "python3"
  },
  "language_info": {
   "codemirror_mode": {
    "name": "ipython",
    "version": 3
   },
   "file_extension": ".py",
   "mimetype": "text/x-python",
   "name": "python",
   "nbconvert_exporter": "python",
   "pygments_lexer": "ipython3",
   "version": "3.7.4"
  }
 },
 "nbformat": 4,
 "nbformat_minor": 2
}
